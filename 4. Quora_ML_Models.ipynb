{
 "cells": [
  {
   "cell_type": "code",
   "execution_count": 2,
   "metadata": {
    "colab": {},
    "colab_type": "code",
    "id": "6VXPfRp-tARR",
    "outputId": "6c27acaf-2c6a-467f-fd7a-68efce98e30b"
   },
   "outputs": [],
   "source": [
    "import pandas as pd\n",
    "import matplotlib.pyplot as plt\n",
    "import re\n",
    "import time\n",
    "import warnings\n",
    "import sqlite3\n",
    "from sqlalchemy import create_engine # database connection\n",
    "import csv\n",
    "import os\n",
    "warnings.filterwarnings(\"ignore\")\n",
    "import datetime as dt\n",
    "import numpy as np\n",
    "from nltk.corpus import stopwords\n",
    "from sklearn.decomposition import TruncatedSVD\n",
    "from sklearn.preprocessing import normalize\n",
    "from sklearn.feature_extraction.text import CountVectorizer\n",
    "from sklearn.manifold import TSNE\n",
    "import seaborn as sns\n",
    "from sklearn.neighbors import KNeighborsClassifier\n",
    "from sklearn.metrics import confusion_matrix\n",
    "from sklearn.metrics.classification import accuracy_score, log_loss\n",
    "from sklearn.feature_extraction.text import TfidfVectorizer\n",
    "from collections import Counter\n",
    "from scipy.sparse import hstack\n",
    "from sklearn.multiclass import OneVsRestClassifier\n",
    "from sklearn.svm import SVC\n",
    "from sklearn.model_selection import StratifiedKFold \n",
    "from collections import Counter, defaultdict\n",
    "from sklearn.calibration import CalibratedClassifierCV\n",
    "from sklearn.naive_bayes import MultinomialNB\n",
    "from sklearn.naive_bayes import GaussianNB\n",
    "from sklearn.model_selection import train_test_split\n",
    "from sklearn.model_selection import GridSearchCV\n",
    "import math\n",
    "from sklearn.metrics import normalized_mutual_info_score\n",
    "from sklearn.ensemble import RandomForestClassifier\n",
    "\n",
    "\n",
    "\n",
    "from sklearn.model_selection import cross_val_score\n",
    "from sklearn.linear_model import SGDClassifier\n",
    "from mlxtend.classifier import StackingClassifier\n",
    "\n",
    "from sklearn import model_selection\n",
    "from sklearn.linear_model import LogisticRegression\n",
    "from sklearn.metrics import precision_recall_curve, auc, roc_curve"
   ]
  },
  {
   "cell_type": "code",
   "execution_count": 3,
   "metadata": {},
   "outputs": [],
   "source": [
    "import spacy\n",
    "nlp = spacy.load('en_core_web_sm')"
   ]
  },
  {
   "cell_type": "code",
   "execution_count": null,
   "metadata": {},
   "outputs": [],
   "source": []
  },
  {
   "cell_type": "markdown",
   "metadata": {
    "colab_type": "text",
    "id": "ZihvUPvHtARd"
   },
   "source": [
    "<h1> Machine Learning Models </h1>"
   ]
  },
  {
   "cell_type": "markdown",
   "metadata": {
    "colab_type": "text",
    "id": "CtN9VBPutARf"
   },
   "source": [
    "<h2> Reading data from file and storing into sql table </h2>"
   ]
  },
  {
   "cell_type": "code",
   "execution_count": 4,
   "metadata": {},
   "outputs": [],
   "source": [
    "df= pd.read_csv('D:/AAIC/quora CS/final_features.csv', nrows=100000)"
   ]
  },
  {
   "cell_type": "code",
   "execution_count": 5,
   "metadata": {},
   "outputs": [
    {
     "data": {
      "text/html": [
       "<div>\n",
       "<style scoped>\n",
       "    .dataframe tbody tr th:only-of-type {\n",
       "        vertical-align: middle;\n",
       "    }\n",
       "\n",
       "    .dataframe tbody tr th {\n",
       "        vertical-align: top;\n",
       "    }\n",
       "\n",
       "    .dataframe thead th {\n",
       "        text-align: right;\n",
       "    }\n",
       "</style>\n",
       "<table border=\"1\" class=\"dataframe\">\n",
       "  <thead>\n",
       "    <tr style=\"text-align: right;\">\n",
       "      <th></th>\n",
       "      <th>Unnamed: 0</th>\n",
       "      <th>id</th>\n",
       "      <th>is_duplicate</th>\n",
       "      <th>cwc_min</th>\n",
       "      <th>cwc_max</th>\n",
       "      <th>csc_min</th>\n",
       "      <th>csc_max</th>\n",
       "      <th>ctc_min</th>\n",
       "      <th>ctc_max</th>\n",
       "      <th>last_word_eq</th>\n",
       "      <th>...</th>\n",
       "      <th>374_y</th>\n",
       "      <th>375_y</th>\n",
       "      <th>376_y</th>\n",
       "      <th>377_y</th>\n",
       "      <th>378_y</th>\n",
       "      <th>379_y</th>\n",
       "      <th>380_y</th>\n",
       "      <th>381_y</th>\n",
       "      <th>382_y</th>\n",
       "      <th>383_y</th>\n",
       "    </tr>\n",
       "  </thead>\n",
       "  <tbody>\n",
       "    <tr>\n",
       "      <th>0</th>\n",
       "      <td>0</td>\n",
       "      <td>0</td>\n",
       "      <td>0</td>\n",
       "      <td>0.999980</td>\n",
       "      <td>0.833319</td>\n",
       "      <td>0.999983</td>\n",
       "      <td>0.999983</td>\n",
       "      <td>0.916659</td>\n",
       "      <td>0.785709</td>\n",
       "      <td>0.0</td>\n",
       "      <td>...</td>\n",
       "      <td>16.165592</td>\n",
       "      <td>33.030668</td>\n",
       "      <td>7.019996</td>\n",
       "      <td>-14.793959</td>\n",
       "      <td>15.437511</td>\n",
       "      <td>8.199658</td>\n",
       "      <td>-25.070834</td>\n",
       "      <td>1.571619</td>\n",
       "      <td>1.603738</td>\n",
       "      <td>0.305645</td>\n",
       "    </tr>\n",
       "    <tr>\n",
       "      <th>1</th>\n",
       "      <td>1</td>\n",
       "      <td>1</td>\n",
       "      <td>0</td>\n",
       "      <td>0.799984</td>\n",
       "      <td>0.399996</td>\n",
       "      <td>0.749981</td>\n",
       "      <td>0.599988</td>\n",
       "      <td>0.699993</td>\n",
       "      <td>0.466664</td>\n",
       "      <td>0.0</td>\n",
       "      <td>...</td>\n",
       "      <td>-4.901128</td>\n",
       "      <td>-4.565393</td>\n",
       "      <td>41.520751</td>\n",
       "      <td>-0.727564</td>\n",
       "      <td>-16.413776</td>\n",
       "      <td>-7.373778</td>\n",
       "      <td>2.638877</td>\n",
       "      <td>-7.403457</td>\n",
       "      <td>2.703070</td>\n",
       "      <td>0.408040</td>\n",
       "    </tr>\n",
       "  </tbody>\n",
       "</table>\n",
       "<p>2 rows × 797 columns</p>\n",
       "</div>"
      ],
      "text/plain": [
       "   Unnamed: 0  id  is_duplicate   cwc_min   cwc_max   csc_min   csc_max  \\\n",
       "0           0   0             0  0.999980  0.833319  0.999983  0.999983   \n",
       "1           1   1             0  0.799984  0.399996  0.749981  0.599988   \n",
       "\n",
       "    ctc_min   ctc_max  last_word_eq  ...      374_y      375_y      376_y  \\\n",
       "0  0.916659  0.785709           0.0  ...  16.165592  33.030668   7.019996   \n",
       "1  0.699993  0.466664           0.0  ...  -4.901128  -4.565393  41.520751   \n",
       "\n",
       "       377_y      378_y     379_y      380_y     381_y     382_y     383_y  \n",
       "0 -14.793959  15.437511  8.199658 -25.070834  1.571619  1.603738  0.305645  \n",
       "1  -0.727564 -16.413776 -7.373778   2.638877 -7.403457  2.703070  0.408040  \n",
       "\n",
       "[2 rows x 797 columns]"
      ]
     },
     "execution_count": 5,
     "metadata": {},
     "output_type": "execute_result"
    }
   ],
   "source": [
    "\n",
    "df.head(2)"
   ]
  },
  {
   "cell_type": "code",
   "execution_count": 6,
   "metadata": {
    "colab": {},
    "colab_type": "code",
    "id": "ZkeBKktKtAR3"
   },
   "outputs": [],
   "source": [
    "# remove the first row \n",
    "df.drop(df.index[0], inplace=True)\n",
    "y_true = df['is_duplicate']\n",
    "df.drop(['Unnamed: 0', 'id','is_duplicate'], axis=1, inplace=True)"
   ]
  },
  {
   "cell_type": "code",
   "execution_count": 7,
   "metadata": {
    "colab": {},
    "colab_type": "code",
    "id": "QKSenpsmtAR9",
    "outputId": "81d890ce-df79-4402-9324-84817dbd5a7d"
   },
   "outputs": [
    {
     "data": {
      "text/plain": [
       "1        0\n",
       "2        0\n",
       "3        0\n",
       "4        0\n",
       "5        1\n",
       "        ..\n",
       "99995    0\n",
       "99996    0\n",
       "99997    1\n",
       "99998    0\n",
       "99999    0\n",
       "Name: is_duplicate, Length: 99999, dtype: int64"
      ]
     },
     "execution_count": 7,
     "metadata": {},
     "output_type": "execute_result"
    }
   ],
   "source": [
    "y_true"
   ]
  },
  {
   "cell_type": "markdown",
   "metadata": {
    "colab_type": "text",
    "id": "KaWHDzqUtASD"
   },
   "source": [
    "<h2>  Converting strings to numerics </h2>"
   ]
  },
  {
   "cell_type": "code",
   "execution_count": 8,
   "metadata": {
    "colab": {},
    "colab_type": "code",
    "id": "iLV60gkptASD",
    "outputId": "f297e0f4-52d5-4ab4-8a43-f0ff82f63698"
   },
   "outputs": [
    {
     "name": "stdout",
     "output_type": "stream",
     "text": [
      "cwc_min\n",
      "cwc_max\n",
      "csc_min\n",
      "csc_max\n",
      "ctc_min\n",
      "ctc_max\n",
      "last_word_eq\n",
      "first_word_eq\n",
      "abs_len_diff\n",
      "mean_len\n",
      "token_set_ratio\n",
      "token_sort_ratio\n",
      "fuzz_ratio\n",
      "fuzz_partial_ratio\n",
      "longest_substr_ratio\n",
      "freq_qid1\n",
      "freq_qid2\n",
      "q1len\n",
      "q2len\n",
      "q1_n_words\n",
      "q2_n_words\n",
      "word_Common\n",
      "word_Total\n",
      "word_share\n",
      "freq_q1+q2\n",
      "freq_q1-q2\n",
      "0_x\n",
      "1_x\n",
      "2_x\n",
      "3_x\n",
      "4_x\n",
      "5_x\n",
      "6_x\n",
      "7_x\n",
      "8_x\n",
      "9_x\n",
      "10_x\n",
      "11_x\n",
      "12_x\n",
      "13_x\n",
      "14_x\n",
      "15_x\n",
      "16_x\n",
      "17_x\n",
      "18_x\n",
      "19_x\n",
      "20_x\n",
      "21_x\n",
      "22_x\n",
      "23_x\n",
      "24_x\n",
      "25_x\n",
      "26_x\n",
      "27_x\n",
      "28_x\n",
      "29_x\n",
      "30_x\n",
      "31_x\n",
      "32_x\n",
      "33_x\n",
      "34_x\n",
      "35_x\n",
      "36_x\n",
      "37_x\n",
      "38_x\n",
      "39_x\n",
      "40_x\n",
      "41_x\n",
      "42_x\n",
      "43_x\n",
      "44_x\n",
      "45_x\n",
      "46_x\n",
      "47_x\n",
      "48_x\n",
      "49_x\n",
      "50_x\n",
      "51_x\n",
      "52_x\n",
      "53_x\n",
      "54_x\n",
      "55_x\n",
      "56_x\n",
      "57_x\n",
      "58_x\n",
      "59_x\n",
      "60_x\n",
      "61_x\n",
      "62_x\n",
      "63_x\n",
      "64_x\n",
      "65_x\n",
      "66_x\n",
      "67_x\n",
      "68_x\n",
      "69_x\n",
      "70_x\n",
      "71_x\n",
      "72_x\n",
      "73_x\n",
      "74_x\n",
      "75_x\n",
      "76_x\n",
      "77_x\n",
      "78_x\n",
      "79_x\n",
      "80_x\n",
      "81_x\n",
      "82_x\n",
      "83_x\n",
      "84_x\n",
      "85_x\n",
      "86_x\n",
      "87_x\n",
      "88_x\n",
      "89_x\n",
      "90_x\n",
      "91_x\n",
      "92_x\n",
      "93_x\n",
      "94_x\n",
      "95_x\n",
      "96_x\n",
      "97_x\n",
      "98_x\n",
      "99_x\n",
      "100_x\n",
      "101_x\n",
      "102_x\n",
      "103_x\n",
      "104_x\n",
      "105_x\n",
      "106_x\n",
      "107_x\n",
      "108_x\n",
      "109_x\n",
      "110_x\n",
      "111_x\n",
      "112_x\n",
      "113_x\n",
      "114_x\n",
      "115_x\n",
      "116_x\n",
      "117_x\n",
      "118_x\n",
      "119_x\n",
      "120_x\n",
      "121_x\n",
      "122_x\n",
      "123_x\n",
      "124_x\n",
      "125_x\n",
      "126_x\n",
      "127_x\n",
      "128_x\n",
      "129_x\n",
      "130_x\n",
      "131_x\n",
      "132_x\n",
      "133_x\n",
      "134_x\n",
      "135_x\n",
      "136_x\n",
      "137_x\n",
      "138_x\n",
      "139_x\n",
      "140_x\n",
      "141_x\n",
      "142_x\n",
      "143_x\n",
      "144_x\n",
      "145_x\n",
      "146_x\n",
      "147_x\n",
      "148_x\n",
      "149_x\n",
      "150_x\n",
      "151_x\n",
      "152_x\n",
      "153_x\n",
      "154_x\n",
      "155_x\n",
      "156_x\n",
      "157_x\n",
      "158_x\n",
      "159_x\n",
      "160_x\n",
      "161_x\n",
      "162_x\n",
      "163_x\n",
      "164_x\n",
      "165_x\n",
      "166_x\n",
      "167_x\n",
      "168_x\n",
      "169_x\n",
      "170_x\n",
      "171_x\n",
      "172_x\n",
      "173_x\n",
      "174_x\n",
      "175_x\n",
      "176_x\n",
      "177_x\n",
      "178_x\n",
      "179_x\n",
      "180_x\n",
      "181_x\n",
      "182_x\n",
      "183_x\n",
      "184_x\n",
      "185_x\n",
      "186_x\n",
      "187_x\n",
      "188_x\n",
      "189_x\n",
      "190_x\n",
      "191_x\n",
      "192_x\n",
      "193_x\n",
      "194_x\n",
      "195_x\n",
      "196_x\n",
      "197_x\n",
      "198_x\n",
      "199_x\n",
      "200_x\n",
      "201_x\n",
      "202_x\n",
      "203_x\n",
      "204_x\n",
      "205_x\n",
      "206_x\n",
      "207_x\n",
      "208_x\n",
      "209_x\n",
      "210_x\n",
      "211_x\n",
      "212_x\n",
      "213_x\n",
      "214_x\n",
      "215_x\n",
      "216_x\n",
      "217_x\n",
      "218_x\n",
      "219_x\n",
      "220_x\n",
      "221_x\n",
      "222_x\n",
      "223_x\n",
      "224_x\n",
      "225_x\n",
      "226_x\n",
      "227_x\n",
      "228_x\n",
      "229_x\n",
      "230_x\n",
      "231_x\n",
      "232_x\n",
      "233_x\n",
      "234_x\n",
      "235_x\n",
      "236_x\n",
      "237_x\n",
      "238_x\n",
      "239_x\n",
      "240_x\n",
      "241_x\n",
      "242_x\n",
      "243_x\n",
      "244_x\n",
      "245_x\n",
      "246_x\n",
      "247_x\n",
      "248_x\n",
      "249_x\n",
      "250_x\n",
      "251_x\n",
      "252_x\n",
      "253_x\n",
      "254_x\n",
      "255_x\n",
      "256_x\n",
      "257_x\n",
      "258_x\n",
      "259_x\n",
      "260_x\n",
      "261_x\n",
      "262_x\n",
      "263_x\n",
      "264_x\n",
      "265_x\n",
      "266_x\n",
      "267_x\n",
      "268_x\n",
      "269_x\n",
      "270_x\n",
      "271_x\n",
      "272_x\n",
      "273_x\n",
      "274_x\n",
      "275_x\n",
      "276_x\n",
      "277_x\n",
      "278_x\n",
      "279_x\n",
      "280_x\n",
      "281_x\n",
      "282_x\n",
      "283_x\n",
      "284_x\n",
      "285_x\n",
      "286_x\n",
      "287_x\n",
      "288_x\n",
      "289_x\n",
      "290_x\n",
      "291_x\n",
      "292_x\n",
      "293_x\n",
      "294_x\n",
      "295_x\n",
      "296_x\n",
      "297_x\n",
      "298_x\n",
      "299_x\n",
      "300_x\n",
      "301_x\n",
      "302_x\n",
      "303_x\n",
      "304_x\n",
      "305_x\n",
      "306_x\n",
      "307_x\n",
      "308_x\n",
      "309_x\n",
      "310_x\n",
      "311_x\n",
      "312_x\n",
      "313_x\n",
      "314_x\n",
      "315_x\n",
      "316_x\n",
      "317_x\n",
      "318_x\n",
      "319_x\n",
      "320_x\n",
      "321_x\n",
      "322_x\n",
      "323_x\n",
      "324_x\n",
      "325_x\n",
      "326_x\n",
      "327_x\n",
      "328_x\n",
      "329_x\n",
      "330_x\n",
      "331_x\n",
      "332_x\n",
      "333_x\n",
      "334_x\n",
      "335_x\n",
      "336_x\n",
      "337_x\n",
      "338_x\n",
      "339_x\n",
      "340_x\n",
      "341_x\n",
      "342_x\n",
      "343_x\n",
      "344_x\n",
      "345_x\n",
      "346_x\n",
      "347_x\n",
      "348_x\n",
      "349_x\n",
      "350_x\n",
      "351_x\n",
      "352_x\n",
      "353_x\n",
      "354_x\n",
      "355_x\n",
      "356_x\n",
      "357_x\n",
      "358_x\n",
      "359_x\n",
      "360_x\n",
      "361_x\n",
      "362_x\n",
      "363_x\n",
      "364_x\n",
      "365_x\n",
      "366_x\n",
      "367_x\n",
      "368_x\n",
      "369_x\n",
      "370_x\n",
      "371_x\n",
      "372_x\n",
      "373_x\n",
      "374_x\n",
      "375_x\n",
      "376_x\n",
      "377_x\n",
      "378_x\n",
      "379_x\n",
      "380_x\n",
      "381_x\n",
      "382_x\n",
      "383_x\n",
      "0_y\n",
      "1_y\n",
      "2_y\n",
      "3_y\n",
      "4_y\n",
      "5_y\n",
      "6_y\n",
      "7_y\n",
      "8_y\n",
      "9_y\n",
      "10_y\n",
      "11_y\n",
      "12_y\n",
      "13_y\n",
      "14_y\n",
      "15_y\n",
      "16_y\n",
      "17_y\n",
      "18_y\n",
      "19_y\n",
      "20_y\n",
      "21_y\n",
      "22_y\n",
      "23_y\n",
      "24_y\n",
      "25_y\n",
      "26_y\n",
      "27_y\n",
      "28_y\n",
      "29_y\n",
      "30_y\n",
      "31_y\n",
      "32_y\n",
      "33_y\n",
      "34_y\n",
      "35_y\n",
      "36_y\n",
      "37_y\n",
      "38_y\n",
      "39_y\n",
      "40_y\n",
      "41_y\n",
      "42_y\n",
      "43_y\n",
      "44_y\n",
      "45_y\n",
      "46_y\n",
      "47_y\n",
      "48_y\n",
      "49_y\n",
      "50_y\n",
      "51_y\n",
      "52_y\n",
      "53_y\n",
      "54_y\n",
      "55_y\n",
      "56_y\n",
      "57_y\n",
      "58_y\n",
      "59_y\n",
      "60_y\n",
      "61_y\n",
      "62_y\n",
      "63_y\n",
      "64_y\n",
      "65_y\n",
      "66_y\n",
      "67_y\n",
      "68_y\n",
      "69_y\n",
      "70_y\n",
      "71_y\n",
      "72_y\n",
      "73_y\n",
      "74_y\n",
      "75_y\n",
      "76_y\n",
      "77_y\n",
      "78_y\n",
      "79_y\n",
      "80_y\n",
      "81_y\n",
      "82_y\n",
      "83_y\n",
      "84_y\n",
      "85_y\n",
      "86_y\n",
      "87_y\n",
      "88_y\n",
      "89_y\n",
      "90_y\n",
      "91_y\n",
      "92_y\n",
      "93_y\n",
      "94_y\n",
      "95_y\n",
      "96_y\n",
      "97_y\n",
      "98_y\n",
      "99_y\n",
      "100_y\n",
      "101_y\n",
      "102_y\n",
      "103_y\n",
      "104_y\n",
      "105_y\n",
      "106_y\n",
      "107_y\n",
      "108_y\n",
      "109_y\n",
      "110_y\n",
      "111_y\n",
      "112_y\n",
      "113_y\n",
      "114_y\n",
      "115_y\n",
      "116_y\n",
      "117_y\n",
      "118_y\n",
      "119_y\n",
      "120_y\n",
      "121_y\n",
      "122_y\n",
      "123_y\n",
      "124_y\n",
      "125_y\n",
      "126_y\n",
      "127_y\n",
      "128_y\n",
      "129_y\n",
      "130_y\n",
      "131_y\n",
      "132_y\n",
      "133_y\n",
      "134_y\n",
      "135_y\n",
      "136_y\n",
      "137_y\n",
      "138_y\n",
      "139_y\n",
      "140_y\n",
      "141_y\n",
      "142_y\n",
      "143_y\n",
      "144_y\n",
      "145_y\n",
      "146_y\n",
      "147_y\n",
      "148_y\n",
      "149_y\n",
      "150_y\n",
      "151_y\n",
      "152_y\n",
      "153_y\n",
      "154_y\n",
      "155_y\n",
      "156_y\n",
      "157_y\n",
      "158_y\n",
      "159_y\n",
      "160_y\n",
      "161_y\n",
      "162_y\n",
      "163_y\n",
      "164_y\n",
      "165_y\n",
      "166_y\n",
      "167_y\n",
      "168_y\n",
      "169_y\n",
      "170_y\n",
      "171_y\n",
      "172_y\n",
      "173_y\n",
      "174_y\n",
      "175_y\n",
      "176_y\n",
      "177_y\n",
      "178_y\n",
      "179_y\n",
      "180_y\n",
      "181_y\n",
      "182_y\n",
      "183_y\n",
      "184_y\n",
      "185_y\n",
      "186_y\n",
      "187_y\n",
      "188_y\n",
      "189_y\n",
      "190_y\n",
      "191_y\n",
      "192_y\n",
      "193_y\n",
      "194_y\n",
      "195_y\n",
      "196_y\n",
      "197_y\n",
      "198_y\n",
      "199_y\n",
      "200_y\n",
      "201_y\n",
      "202_y\n",
      "203_y\n",
      "204_y\n",
      "205_y\n",
      "206_y\n",
      "207_y\n",
      "208_y\n",
      "209_y\n",
      "210_y\n",
      "211_y\n",
      "212_y\n",
      "213_y\n",
      "214_y\n",
      "215_y\n",
      "216_y\n",
      "217_y\n",
      "218_y\n",
      "219_y\n",
      "220_y\n",
      "221_y\n",
      "222_y\n",
      "223_y\n",
      "224_y\n",
      "225_y\n",
      "226_y\n",
      "227_y\n",
      "228_y\n",
      "229_y\n",
      "230_y\n",
      "231_y\n",
      "232_y\n",
      "233_y\n",
      "234_y\n",
      "235_y\n",
      "236_y\n",
      "237_y\n",
      "238_y\n",
      "239_y\n",
      "240_y\n",
      "241_y\n",
      "242_y\n",
      "243_y\n",
      "244_y\n",
      "245_y\n",
      "246_y\n",
      "247_y\n",
      "248_y\n",
      "249_y\n",
      "250_y\n",
      "251_y\n",
      "252_y\n",
      "253_y\n",
      "254_y\n",
      "255_y\n",
      "256_y\n",
      "257_y\n",
      "258_y\n",
      "259_y\n",
      "260_y\n",
      "261_y\n",
      "262_y\n",
      "263_y\n",
      "264_y\n",
      "265_y\n",
      "266_y\n",
      "267_y\n",
      "268_y\n",
      "269_y\n",
      "270_y\n",
      "271_y\n",
      "272_y\n",
      "273_y\n",
      "274_y\n",
      "275_y\n",
      "276_y\n",
      "277_y\n",
      "278_y\n",
      "279_y\n",
      "280_y\n",
      "281_y\n",
      "282_y\n",
      "283_y\n",
      "284_y\n",
      "285_y\n",
      "286_y\n",
      "287_y\n",
      "288_y\n",
      "289_y\n",
      "290_y\n",
      "291_y\n",
      "292_y\n",
      "293_y\n",
      "294_y\n",
      "295_y\n",
      "296_y\n",
      "297_y\n",
      "298_y\n",
      "299_y\n",
      "300_y\n",
      "301_y\n",
      "302_y\n",
      "303_y\n",
      "304_y\n",
      "305_y\n",
      "306_y\n",
      "307_y\n",
      "308_y\n",
      "309_y\n",
      "310_y\n",
      "311_y\n",
      "312_y\n",
      "313_y\n",
      "314_y\n",
      "315_y\n",
      "316_y\n",
      "317_y\n",
      "318_y\n",
      "319_y\n",
      "320_y\n",
      "321_y\n",
      "322_y\n",
      "323_y\n",
      "324_y\n",
      "325_y\n",
      "326_y\n",
      "327_y\n",
      "328_y\n",
      "329_y\n",
      "330_y\n",
      "331_y\n",
      "332_y\n",
      "333_y\n",
      "334_y\n",
      "335_y\n",
      "336_y\n",
      "337_y\n",
      "338_y\n",
      "339_y\n",
      "340_y\n",
      "341_y\n",
      "342_y\n",
      "343_y\n",
      "344_y\n",
      "345_y\n",
      "346_y\n",
      "347_y\n",
      "348_y\n",
      "349_y\n",
      "350_y\n",
      "351_y\n",
      "352_y\n",
      "353_y\n",
      "354_y\n",
      "355_y\n",
      "356_y\n",
      "357_y\n",
      "358_y\n",
      "359_y\n",
      "360_y\n",
      "361_y\n",
      "362_y\n",
      "363_y\n",
      "364_y\n",
      "365_y\n",
      "366_y\n",
      "367_y\n",
      "368_y\n",
      "369_y\n",
      "370_y\n",
      "371_y\n",
      "372_y\n",
      "373_y\n",
      "374_y\n",
      "375_y\n",
      "376_y\n",
      "377_y\n",
      "378_y\n",
      "379_y\n",
      "380_y\n",
      "381_y\n",
      "382_y\n",
      "383_y\n"
     ]
    }
   ],
   "source": [
    "# after we read from sql table each entry was read it as a string\n",
    "# we convert all the features into numaric before we apply any model\n",
    "cols = list(df.columns)\n",
    "for i in cols:\n",
    "    df[i] = df[i].apply(pd.to_numeric)\n",
    "    print(i)"
   ]
  },
  {
   "cell_type": "code",
   "execution_count": 9,
   "metadata": {
    "colab": {},
    "colab_type": "code",
    "id": "_LpfQwc9tASJ"
   },
   "outputs": [],
   "source": [
    "# https://stackoverflow.com/questions/7368789/convert-all-strings-in-a-list-to-int\n",
    "y_true = list(map(int, y_true.values))"
   ]
  },
  {
   "cell_type": "markdown",
   "metadata": {
    "colab_type": "text",
    "id": "CuMTqWGutASO"
   },
   "source": [
    "<h2> Random train test split( 70:30) </h2>"
   ]
  },
  {
   "cell_type": "code",
   "execution_count": 10,
   "metadata": {
    "colab": {},
    "colab_type": "code",
    "id": "3Rat2obGtASP"
   },
   "outputs": [],
   "source": [
    "X_train,X_test, y_train, y_test = train_test_split(df, y_true, stratify=y_true, test_size=0.3)"
   ]
  },
  {
   "cell_type": "code",
   "execution_count": 11,
   "metadata": {
    "colab": {},
    "colab_type": "code",
    "id": "1Iw9zCHqtASS",
    "outputId": "910b684b-0876-4dd8-e0d9-457846236833"
   },
   "outputs": [
    {
     "name": "stdout",
     "output_type": "stream",
     "text": [
      "Number of data points in train data : (69999, 794)\n",
      "Number of data points in test data : (30000, 794)\n"
     ]
    }
   ],
   "source": [
    "print(\"Number of data points in train data :\",X_train.shape)\n",
    "print(\"Number of data points in test data :\",X_test.shape)"
   ]
  },
  {
   "cell_type": "code",
   "execution_count": 12,
   "metadata": {
    "colab": {},
    "colab_type": "code",
    "id": "0oDV15LJtASY",
    "outputId": "70a1e4eb-3f31-4f1e-a53b-ad972978505d"
   },
   "outputs": [
    {
     "name": "stdout",
     "output_type": "stream",
     "text": [
      "---------- Distribution of output variable in train data ----------\n",
      "Class 0:  0.6274518207402963 Class 1:  0.3725481792597037\n",
      "---------- Distribution of output variable in test data ----------\n",
      "Class 0:  0.6274666666666666 Class 1:  0.3725333333333333\n"
     ]
    }
   ],
   "source": [
    "print(\"-\"*10, \"Distribution of output variable in train data\", \"-\"*10)\n",
    "train_distr = Counter(y_train)\n",
    "train_len = len(y_train)\n",
    "print(\"Class 0: \",int(train_distr[0])/train_len,\"Class 1: \", int(train_distr[1])/train_len)\n",
    "print(\"-\"*10, \"Distribution of output variable in test data\", \"-\"*10)\n",
    "test_distr = Counter(y_test)\n",
    "test_len = len(y_test)\n",
    "print(\"Class 0: \",int(test_distr[0])/test_len, \"Class 1: \",int(test_distr[1])/test_len)"
   ]
  },
  {
   "cell_type": "code",
   "execution_count": 13,
   "metadata": {
    "colab": {},
    "colab_type": "code",
    "id": "XfxcPT6jtASg"
   },
   "outputs": [],
   "source": [
    "# This function plots the confusion matrices given y_i, y_i_hat.\n",
    "def plot_confusion_matrix(test_y, predict_y):\n",
    "    C = confusion_matrix(test_y, predict_y)\n",
    "    # C = 9,9 matrix, each cell (i,j) represents number of points of class i are predicted class j\n",
    "    \n",
    "    A =(((C.T)/(C.sum(axis=1))).T)\n",
    "    #divid each element of the confusion matrix with the sum of elements in that column\n",
    "    \n",
    "    # C = [[1, 2],\n",
    "    #     [3, 4]]\n",
    "    # C.T = [[1, 3],\n",
    "    #        [2, 4]]\n",
    "    # C.sum(axis = 1)  axis=0 corresonds to columns and axis=1 corresponds to rows in two diamensional array\n",
    "    # C.sum(axix =1) = [[3, 7]]\n",
    "    # ((C.T)/(C.sum(axis=1))) = [[1/3, 3/7]\n",
    "    #                           [2/3, 4/7]]\n",
    "\n",
    "    # ((C.T)/(C.sum(axis=1))).T = [[1/3, 2/3]\n",
    "    #                           [3/7, 4/7]]\n",
    "    # sum of row elements = 1\n",
    "    \n",
    "    B =(C/C.sum(axis=0))\n",
    "    #divid each element of the confusion matrix with the sum of elements in that row\n",
    "    # C = [[1, 2],\n",
    "    #     [3, 4]]\n",
    "    # C.sum(axis = 0)  axis=0 corresonds to columns and axis=1 corresponds to rows in two diamensional array\n",
    "    # C.sum(axix =0) = [[4, 6]]\n",
    "    # (C/C.sum(axis=0)) = [[1/4, 2/6],\n",
    "    #                      [3/4, 4/6]] \n",
    "    plt.figure(figsize=(20,4))\n",
    "    \n",
    "    labels = [1,2]\n",
    "    # representing A in heatmap format\n",
    "    cmap=sns.light_palette(\"blue\")\n",
    "    plt.subplot(1, 3, 1)\n",
    "    sns.heatmap(C, annot=True, cmap=cmap, fmt=\".3f\", xticklabels=labels, yticklabels=labels)\n",
    "    plt.xlabel('Predicted Class')\n",
    "    plt.ylabel('Original Class')\n",
    "    plt.title(\"Confusion matrix\")\n",
    "    \n",
    "    plt.subplot(1, 3, 2)\n",
    "    sns.heatmap(B, annot=True, cmap=cmap, fmt=\".3f\", xticklabels=labels, yticklabels=labels)\n",
    "    plt.xlabel('Predicted Class')\n",
    "    plt.ylabel('Original Class')\n",
    "    plt.title(\"Precision matrix\")\n",
    "    \n",
    "    plt.subplot(1, 3, 3)\n",
    "    # representing B in heatmap format\n",
    "    sns.heatmap(A, annot=True, cmap=cmap, fmt=\".3f\", xticklabels=labels, yticklabels=labels)\n",
    "    plt.xlabel('Predicted Class')\n",
    "    plt.ylabel('Original Class')\n",
    "    plt.title(\"Recall matrix\")\n",
    "    \n",
    "    plt.show()"
   ]
  },
  {
   "cell_type": "markdown",
   "metadata": {
    "colab_type": "text",
    "id": "UStQJ5F_tASk"
   },
   "source": [
    "<h2> Building a random model (Finding worst-case log-loss) </h2>"
   ]
  },
  {
   "cell_type": "code",
   "execution_count": 13,
   "metadata": {
    "colab": {},
    "colab_type": "code",
    "id": "qwMDqcU7tASl",
    "outputId": "c1e90d53-25ec-445b-e33a-299538520e32"
   },
   "outputs": [
    {
     "name": "stdout",
     "output_type": "stream",
     "text": [
      "Log loss on Test Data using Random Model 0.8874522812412007\n"
     ]
    },
    {
     "data": {
      "image/png": "[encoded data removed]",
      "text/plain": [
       "<Figure size 1440x288 with 6 Axes>"
      ]
     },
     "metadata": {
      "needs_background": "light"
     },
     "output_type": "display_data"
    }
   ],
   "source": [
    "# we need to generate 9 numbers and the sum of numbers should be 1\n",
    "# one solution is to genarate 9 numbers and divide each of the numbers by their sum\n",
    "# ref: https://stackoverflow.com/a/18662466/4084039\n",
    "# we create a output array that has exactly same size as the CV data\n",
    "predicted_y = np.zeros((test_len,2))\n",
    "for i in range(test_len):\n",
    "    rand_probs = np.random.rand(1,2)\n",
    "    predicted_y[i] = ((rand_probs/sum(sum(rand_probs)))[0])\n",
    "print(\"Log loss on Test Data using Random Model\",log_loss(y_test, predicted_y, eps=1e-15))\n",
    "\n",
    "predicted_y =np.argmax(predicted_y, axis=1)\n",
    "plot_confusion_matrix(y_test, predicted_y)"
   ]
  },
  {
   "cell_type": "markdown",
   "metadata": {
    "colab_type": "text",
    "id": "YgY29g_qtASq"
   },
   "source": [
    "<h2>  Logistic Regression with hyperparameter tuning </h2>"
   ]
  },
  {
   "cell_type": "code",
   "execution_count": 14,
   "metadata": {
    "colab": {},
    "colab_type": "code",
    "id": "Wb2tOE3GtASr",
    "outputId": "d7e4fc88-7d4e-4313-cda7-462a2409292e"
   },
   "outputs": [
    {
     "name": "stdout",
     "output_type": "stream",
     "text": [
      "For values of alpha =  1e-05 The log loss is: 0.5161268472633854\n",
      "For values of alpha =  0.0001 The log loss is: 0.45280634271020836\n",
      "For values of alpha =  0.001 The log loss is: 0.44106772500587443\n",
      "For values of alpha =  0.01 The log loss is: 0.4573443181157958\n",
      "For values of alpha =  0.1 The log loss is: 0.4491898899231689\n",
      "For values of alpha =  1 The log loss is: 0.47428049164436825\n",
      "For values of alpha =  10 The log loss is: 0.5164155077442683\n"
     ]
    },
    {
     "data": {
      "image/png": "[encoded data removed]",
      "text/plain": [
       "<Figure size 432x288 with 1 Axes>"
      ]
     },
     "metadata": {
      "needs_background": "light"
     },
     "output_type": "display_data"
    },
    {
     "name": "stdout",
     "output_type": "stream",
     "text": [
      "For values of best alpha =  0.001 The train log loss is: 0.4335848712664139\n",
      "For values of best alpha =  0.001 The test log loss is: 0.44106772500587443\n",
      "Total number of data points : 30000\n"
     ]
    },
    {
     "data": {
      "image/png": "[encoded data removed]",
      "text/plain": [
       "<Figure size 1440x288 with 6 Axes>"
      ]
     },
     "metadata": {
      "needs_background": "light"
     },
     "output_type": "display_data"
    }
   ],
   "source": [
    "alpha = [10 ** x for x in range(-5, 2)] # hyperparam for SGD classifier.\n",
    "\n",
    "# read more about SGDClassifier() at http://scikit-learn.org/stable/modules/generated/sklearn.linear_model.SGDClassifier.html\n",
    "# ------------------------------\n",
    "# default parameters\n",
    "# SGDClassifier(loss=’hinge’, penalty=’l2’, alpha=0.0001, l1_ratio=0.15, fit_intercept=True, max_iter=None, tol=None, \n",
    "# shuffle=True, verbose=0, epsilon=0.1, n_jobs=1, random_state=None, learning_rate=’optimal’, eta0=0.0, power_t=0.5, \n",
    "# class_weight=None, warm_start=False, average=False, n_iter=None)\n",
    "\n",
    "# some of methods\n",
    "# fit(X, y[, coef_init, intercept_init, …])\tFit linear model with Stochastic Gradient Descent.\n",
    "# predict(X)\tPredict class labels for samples in X.\n",
    "\n",
    "#-------------------------------\n",
    "# video link: \n",
    "#------------------------------\n",
    "\n",
    "\n",
    "log_error_array=[]\n",
    "for i in alpha:\n",
    "    clf = SGDClassifier(alpha=i, penalty='l2', loss='log', random_state=42)\n",
    "    clf.fit(X_train, y_train)\n",
    "    sig_clf = CalibratedClassifierCV(clf, method=\"sigmoid\")\n",
    "    sig_clf.fit(X_train, y_train)\n",
    "    predict_y = sig_clf.predict_proba(X_test)\n",
    "    log_error_array.append(log_loss(y_test, predict_y, labels=clf.classes_, eps=1e-15))\n",
    "    print('For values of alpha = ', i, \"The log loss is:\",log_loss(y_test, predict_y, labels=clf.classes_, eps=1e-15))\n",
    "\n",
    "fig, ax = plt.subplots()\n",
    "ax.plot(alpha, log_error_array,c='g')\n",
    "for i, txt in enumerate(np.round(log_error_array,3)):\n",
    "    ax.annotate((alpha[i],np.round(txt,3)), (alpha[i],log_error_array[i]))\n",
    "plt.grid()\n",
    "plt.title(\"Cross Validation Error for each alpha\")\n",
    "plt.xlabel(\"Alpha i's\")\n",
    "plt.ylabel(\"Error measure\")\n",
    "plt.show()\n",
    "\n",
    "\n",
    "best_alpha = np.argmin(log_error_array)\n",
    "clf = SGDClassifier(alpha=alpha[best_alpha], penalty='l2', loss='log', random_state=42)\n",
    "clf.fit(X_train, y_train)\n",
    "sig_clf = CalibratedClassifierCV(clf, method=\"sigmoid\")\n",
    "sig_clf.fit(X_train, y_train)\n",
    "\n",
    "predict_y = sig_clf.predict_proba(X_train)\n",
    "print('For values of best alpha = ', alpha[best_alpha], \"The train log loss is:\",log_loss(y_train, predict_y, labels=clf.classes_, eps=1e-15))\n",
    "predict_y = sig_clf.predict_proba(X_test)\n",
    "print('For values of best alpha = ', alpha[best_alpha], \"The test log loss is:\",log_loss(y_test, predict_y, labels=clf.classes_, eps=1e-15))\n",
    "predicted_y =np.argmax(predict_y,axis=1)\n",
    "print(\"Total number of data points :\", len(predicted_y))\n",
    "plot_confusion_matrix(y_test, predicted_y)"
   ]
  },
  {
   "cell_type": "markdown",
   "metadata": {
    "colab_type": "text",
    "id": "ouQSEnr3tASy"
   },
   "source": [
    "<h2>  Linear SVM with hyperparameter tuning </h2>"
   ]
  },
  {
   "cell_type": "code",
   "execution_count": 15,
   "metadata": {
    "colab": {},
    "colab_type": "code",
    "id": "AOFfZ5PLtAS0",
    "outputId": "d31eb598-e275-48cb-c49b-98e9eb76d8ba"
   },
   "outputs": [
    {
     "name": "stdout",
     "output_type": "stream",
     "text": [
      "For values of alpha =  1e-05 The log loss is: 0.6602902123522941\n"
     ]
    },
    {
     "name": "stderr",
     "output_type": "stream",
     "text": [
      "C:\\Users\\Mihir\\AppData\\Roaming\\Python\\Python37\\site-packages\\sklearn\\linear_model\\_stochastic_gradient.py:557: ConvergenceWarning: Maximum number of iteration reached before convergence. Consider increasing max_iter to improve the fit.\n",
      "  ConvergenceWarning)\n"
     ]
    },
    {
     "name": "stdout",
     "output_type": "stream",
     "text": [
      "For values of alpha =  0.0001 The log loss is: 0.6602902123522941\n"
     ]
    },
    {
     "name": "stderr",
     "output_type": "stream",
     "text": [
      "C:\\Users\\Mihir\\AppData\\Roaming\\Python\\Python37\\site-packages\\sklearn\\linear_model\\_stochastic_gradient.py:557: ConvergenceWarning: Maximum number of iteration reached before convergence. Consider increasing max_iter to improve the fit.\n",
      "  ConvergenceWarning)\n",
      "C:\\Users\\Mihir\\AppData\\Roaming\\Python\\Python37\\site-packages\\sklearn\\linear_model\\_stochastic_gradient.py:557: ConvergenceWarning: Maximum number of iteration reached before convergence. Consider increasing max_iter to improve the fit.\n",
      "  ConvergenceWarning)\n",
      "C:\\Users\\Mihir\\AppData\\Roaming\\Python\\Python37\\site-packages\\sklearn\\linear_model\\_stochastic_gradient.py:557: ConvergenceWarning: Maximum number of iteration reached before convergence. Consider increasing max_iter to improve the fit.\n",
      "  ConvergenceWarning)\n",
      "C:\\Users\\Mihir\\AppData\\Roaming\\Python\\Python37\\site-packages\\sklearn\\linear_model\\_stochastic_gradient.py:557: ConvergenceWarning: Maximum number of iteration reached before convergence. Consider increasing max_iter to improve the fit.\n",
      "  ConvergenceWarning)\n",
      "C:\\Users\\Mihir\\AppData\\Roaming\\Python\\Python37\\site-packages\\sklearn\\linear_model\\_stochastic_gradient.py:557: ConvergenceWarning: Maximum number of iteration reached before convergence. Consider increasing max_iter to improve the fit.\n",
      "  ConvergenceWarning)\n",
      "C:\\Users\\Mihir\\AppData\\Roaming\\Python\\Python37\\site-packages\\sklearn\\linear_model\\_stochastic_gradient.py:557: ConvergenceWarning: Maximum number of iteration reached before convergence. Consider increasing max_iter to improve the fit.\n",
      "  ConvergenceWarning)\n"
     ]
    },
    {
     "name": "stdout",
     "output_type": "stream",
     "text": [
      "For values of alpha =  0.001 The log loss is: 0.6602902123522941\n"
     ]
    },
    {
     "name": "stderr",
     "output_type": "stream",
     "text": [
      "C:\\Users\\Mihir\\AppData\\Roaming\\Python\\Python37\\site-packages\\sklearn\\linear_model\\_stochastic_gradient.py:557: ConvergenceWarning: Maximum number of iteration reached before convergence. Consider increasing max_iter to improve the fit.\n",
      "  ConvergenceWarning)\n",
      "C:\\Users\\Mihir\\AppData\\Roaming\\Python\\Python37\\site-packages\\sklearn\\linear_model\\_stochastic_gradient.py:557: ConvergenceWarning: Maximum number of iteration reached before convergence. Consider increasing max_iter to improve the fit.\n",
      "  ConvergenceWarning)\n",
      "C:\\Users\\Mihir\\AppData\\Roaming\\Python\\Python37\\site-packages\\sklearn\\linear_model\\_stochastic_gradient.py:557: ConvergenceWarning: Maximum number of iteration reached before convergence. Consider increasing max_iter to improve the fit.\n",
      "  ConvergenceWarning)\n",
      "C:\\Users\\Mihir\\AppData\\Roaming\\Python\\Python37\\site-packages\\sklearn\\linear_model\\_stochastic_gradient.py:557: ConvergenceWarning: Maximum number of iteration reached before convergence. Consider increasing max_iter to improve the fit.\n",
      "  ConvergenceWarning)\n",
      "C:\\Users\\Mihir\\AppData\\Roaming\\Python\\Python37\\site-packages\\sklearn\\linear_model\\_stochastic_gradient.py:557: ConvergenceWarning: Maximum number of iteration reached before convergence. Consider increasing max_iter to improve the fit.\n",
      "  ConvergenceWarning)\n",
      "C:\\Users\\Mihir\\AppData\\Roaming\\Python\\Python37\\site-packages\\sklearn\\linear_model\\_stochastic_gradient.py:557: ConvergenceWarning: Maximum number of iteration reached before convergence. Consider increasing max_iter to improve the fit.\n",
      "  ConvergenceWarning)\n"
     ]
    },
    {
     "name": "stdout",
     "output_type": "stream",
     "text": [
      "For values of alpha =  0.01 The log loss is: 0.5562693057253287\n"
     ]
    },
    {
     "name": "stderr",
     "output_type": "stream",
     "text": [
      "C:\\Users\\Mihir\\AppData\\Roaming\\Python\\Python37\\site-packages\\sklearn\\linear_model\\_stochastic_gradient.py:557: ConvergenceWarning: Maximum number of iteration reached before convergence. Consider increasing max_iter to improve the fit.\n",
      "  ConvergenceWarning)\n",
      "C:\\Users\\Mihir\\AppData\\Roaming\\Python\\Python37\\site-packages\\sklearn\\linear_model\\_stochastic_gradient.py:557: ConvergenceWarning: Maximum number of iteration reached before convergence. Consider increasing max_iter to improve the fit.\n",
      "  ConvergenceWarning)\n",
      "C:\\Users\\Mihir\\AppData\\Roaming\\Python\\Python37\\site-packages\\sklearn\\linear_model\\_stochastic_gradient.py:557: ConvergenceWarning: Maximum number of iteration reached before convergence. Consider increasing max_iter to improve the fit.\n",
      "  ConvergenceWarning)\n",
      "C:\\Users\\Mihir\\AppData\\Roaming\\Python\\Python37\\site-packages\\sklearn\\linear_model\\_stochastic_gradient.py:557: ConvergenceWarning: Maximum number of iteration reached before convergence. Consider increasing max_iter to improve the fit.\n",
      "  ConvergenceWarning)\n",
      "C:\\Users\\Mihir\\AppData\\Roaming\\Python\\Python37\\site-packages\\sklearn\\linear_model\\_stochastic_gradient.py:557: ConvergenceWarning: Maximum number of iteration reached before convergence. Consider increasing max_iter to improve the fit.\n",
      "  ConvergenceWarning)\n",
      "C:\\Users\\Mihir\\AppData\\Roaming\\Python\\Python37\\site-packages\\sklearn\\linear_model\\_stochastic_gradient.py:557: ConvergenceWarning: Maximum number of iteration reached before convergence. Consider increasing max_iter to improve the fit.\n",
      "  ConvergenceWarning)\n"
     ]
    },
    {
     "name": "stdout",
     "output_type": "stream",
     "text": [
      "For values of alpha =  0.1 The log loss is: 0.5852788858378706\n"
     ]
    },
    {
     "name": "stderr",
     "output_type": "stream",
     "text": [
      "C:\\Users\\Mihir\\AppData\\Roaming\\Python\\Python37\\site-packages\\sklearn\\linear_model\\_stochastic_gradient.py:557: ConvergenceWarning: Maximum number of iteration reached before convergence. Consider increasing max_iter to improve the fit.\n",
      "  ConvergenceWarning)\n",
      "C:\\Users\\Mihir\\AppData\\Roaming\\Python\\Python37\\site-packages\\sklearn\\linear_model\\_stochastic_gradient.py:557: ConvergenceWarning: Maximum number of iteration reached before convergence. Consider increasing max_iter to improve the fit.\n",
      "  ConvergenceWarning)\n",
      "C:\\Users\\Mihir\\AppData\\Roaming\\Python\\Python37\\site-packages\\sklearn\\linear_model\\_stochastic_gradient.py:557: ConvergenceWarning: Maximum number of iteration reached before convergence. Consider increasing max_iter to improve the fit.\n",
      "  ConvergenceWarning)\n",
      "C:\\Users\\Mihir\\AppData\\Roaming\\Python\\Python37\\site-packages\\sklearn\\linear_model\\_stochastic_gradient.py:557: ConvergenceWarning: Maximum number of iteration reached before convergence. Consider increasing max_iter to improve the fit.\n",
      "  ConvergenceWarning)\n",
      "C:\\Users\\Mihir\\AppData\\Roaming\\Python\\Python37\\site-packages\\sklearn\\linear_model\\_stochastic_gradient.py:557: ConvergenceWarning: Maximum number of iteration reached before convergence. Consider increasing max_iter to improve the fit.\n",
      "  ConvergenceWarning)\n",
      "C:\\Users\\Mihir\\AppData\\Roaming\\Python\\Python37\\site-packages\\sklearn\\linear_model\\_stochastic_gradient.py:557: ConvergenceWarning: Maximum number of iteration reached before convergence. Consider increasing max_iter to improve the fit.\n",
      "  ConvergenceWarning)\n"
     ]
    },
    {
     "name": "stdout",
     "output_type": "stream",
     "text": [
      "For values of alpha =  1 The log loss is: 0.6405840816263493\n"
     ]
    },
    {
     "name": "stderr",
     "output_type": "stream",
     "text": [
      "C:\\Users\\Mihir\\AppData\\Roaming\\Python\\Python37\\site-packages\\sklearn\\linear_model\\_stochastic_gradient.py:557: ConvergenceWarning: Maximum number of iteration reached before convergence. Consider increasing max_iter to improve the fit.\n",
      "  ConvergenceWarning)\n",
      "C:\\Users\\Mihir\\AppData\\Roaming\\Python\\Python37\\site-packages\\sklearn\\linear_model\\_stochastic_gradient.py:557: ConvergenceWarning: Maximum number of iteration reached before convergence. Consider increasing max_iter to improve the fit.\n",
      "  ConvergenceWarning)\n",
      "C:\\Users\\Mihir\\AppData\\Roaming\\Python\\Python37\\site-packages\\sklearn\\linear_model\\_stochastic_gradient.py:557: ConvergenceWarning: Maximum number of iteration reached before convergence. Consider increasing max_iter to improve the fit.\n",
      "  ConvergenceWarning)\n",
      "C:\\Users\\Mihir\\AppData\\Roaming\\Python\\Python37\\site-packages\\sklearn\\linear_model\\_stochastic_gradient.py:557: ConvergenceWarning: Maximum number of iteration reached before convergence. Consider increasing max_iter to improve the fit.\n",
      "  ConvergenceWarning)\n",
      "C:\\Users\\Mihir\\AppData\\Roaming\\Python\\Python37\\site-packages\\sklearn\\linear_model\\_stochastic_gradient.py:557: ConvergenceWarning: Maximum number of iteration reached before convergence. Consider increasing max_iter to improve the fit.\n",
      "  ConvergenceWarning)\n",
      "C:\\Users\\Mihir\\AppData\\Roaming\\Python\\Python37\\site-packages\\sklearn\\linear_model\\_stochastic_gradient.py:557: ConvergenceWarning: Maximum number of iteration reached before convergence. Consider increasing max_iter to improve the fit.\n",
      "  ConvergenceWarning)\n"
     ]
    },
    {
     "name": "stdout",
     "output_type": "stream",
     "text": [
      "For values of alpha =  10 The log loss is: 0.6602902123522941\n"
     ]
    },
    {
     "data": {
      "image/png": "[encoded data removed]",
      "text/plain": [
       "<Figure size 432x288 with 1 Axes>"
      ]
     },
     "metadata": {
      "needs_background": "light"
     },
     "output_type": "display_data"
    },
    {
     "name": "stderr",
     "output_type": "stream",
     "text": [
      "C:\\Users\\Mihir\\AppData\\Roaming\\Python\\Python37\\site-packages\\sklearn\\linear_model\\_stochastic_gradient.py:557: ConvergenceWarning: Maximum number of iteration reached before convergence. Consider increasing max_iter to improve the fit.\n",
      "  ConvergenceWarning)\n",
      "C:\\Users\\Mihir\\AppData\\Roaming\\Python\\Python37\\site-packages\\sklearn\\linear_model\\_stochastic_gradient.py:557: ConvergenceWarning: Maximum number of iteration reached before convergence. Consider increasing max_iter to improve the fit.\n",
      "  ConvergenceWarning)\n",
      "C:\\Users\\Mihir\\AppData\\Roaming\\Python\\Python37\\site-packages\\sklearn\\linear_model\\_stochastic_gradient.py:557: ConvergenceWarning: Maximum number of iteration reached before convergence. Consider increasing max_iter to improve the fit.\n",
      "  ConvergenceWarning)\n",
      "C:\\Users\\Mihir\\AppData\\Roaming\\Python\\Python37\\site-packages\\sklearn\\linear_model\\_stochastic_gradient.py:557: ConvergenceWarning: Maximum number of iteration reached before convergence. Consider increasing max_iter to improve the fit.\n",
      "  ConvergenceWarning)\n",
      "C:\\Users\\Mihir\\AppData\\Roaming\\Python\\Python37\\site-packages\\sklearn\\linear_model\\_stochastic_gradient.py:557: ConvergenceWarning: Maximum number of iteration reached before convergence. Consider increasing max_iter to improve the fit.\n",
      "  ConvergenceWarning)\n",
      "C:\\Users\\Mihir\\AppData\\Roaming\\Python\\Python37\\site-packages\\sklearn\\linear_model\\_stochastic_gradient.py:557: ConvergenceWarning: Maximum number of iteration reached before convergence. Consider increasing max_iter to improve the fit.\n",
      "  ConvergenceWarning)\n"
     ]
    },
    {
     "name": "stdout",
     "output_type": "stream",
     "text": [
      "For values of best alpha =  0.01 The train log loss is: 0.5530580212605491\n",
      "For values of best alpha =  0.01 The test log loss is: 0.5562693057253287\n",
      "Total number of data points : 30000\n"
     ]
    },
    {
     "data": {
      "image/png": "[encoded data removed]",
      "text/plain": [
       "<Figure size 1440x288 with 6 Axes>"
      ]
     },
     "metadata": {
      "needs_background": "light"
     },
     "output_type": "display_data"
    }
   ],
   "source": [
    "alpha = [10 ** x for x in range(-5, 2)] # hyperparam for SGD classifier.\n",
    "\n",
    "# read more about SGDClassifier() at http://scikit-learn.org/stable/modules/generated/sklearn.linear_model.SGDClassifier.html\n",
    "# ------------------------------\n",
    "# default parameters\n",
    "# SGDClassifier(loss=’hinge’, penalty=’l2’, alpha=0.0001, l1_ratio=0.15, fit_intercept=True, max_iter=None, tol=None, \n",
    "# shuffle=True, verbose=0, epsilon=0.1, n_jobs=1, random_state=None, learning_rate=’optimal’, eta0=0.0, power_t=0.5, \n",
    "# class_weight=None, warm_start=False, average=False, n_iter=None)\n",
    "\n",
    "# some of methods\n",
    "# fit(X, y[, coef_init, intercept_init, …])\tFit linear model with Stochastic Gradient Descent.\n",
    "# predict(X)\tPredict class labels for samples in X.\n",
    "\n",
    "#-------------------------------\n",
    "# video link: \n",
    "#------------------------------\n",
    "\n",
    "\n",
    "log_error_array=[]\n",
    "for i in alpha:\n",
    "    clf = SGDClassifier(alpha=i, penalty='l1', loss='hinge', random_state=42)\n",
    "    clf.fit(X_train, y_train)\n",
    "    sig_clf = CalibratedClassifierCV(clf, method=\"sigmoid\")\n",
    "    sig_clf.fit(X_train, y_train)\n",
    "    predict_y = sig_clf.predict_proba(X_test)\n",
    "    log_error_array.append(log_loss(y_test, predict_y, labels=clf.classes_, eps=1e-15))\n",
    "    print('For values of alpha = ', i, \"The log loss is:\",log_loss(y_test, predict_y, labels=clf.classes_, eps=1e-15))\n",
    "\n",
    "fig, ax = plt.subplots()\n",
    "ax.plot(alpha, log_error_array,c='g')\n",
    "for i, txt in enumerate(np.round(log_error_array,3)):\n",
    "    ax.annotate((alpha[i],np.round(txt,3)), (alpha[i],log_error_array[i]))\n",
    "plt.grid()\n",
    "plt.title(\"Cross Validation Error for each alpha\")\n",
    "plt.xlabel(\"Alpha i's\")\n",
    "plt.ylabel(\"Error measure\")\n",
    "plt.show()\n",
    "\n",
    "\n",
    "best_alpha = np.argmin(log_error_array)\n",
    "clf = SGDClassifier(alpha=alpha[best_alpha], penalty='l1', loss='hinge', random_state=42)\n",
    "clf.fit(X_train, y_train)\n",
    "sig_clf = CalibratedClassifierCV(clf, method=\"sigmoid\")\n",
    "sig_clf.fit(X_train, y_train)\n",
    "\n",
    "predict_y = sig_clf.predict_proba(X_train)\n",
    "print('For values of best alpha = ', alpha[best_alpha], \"The train log loss is:\",log_loss(y_train, predict_y, labels=clf.classes_, eps=1e-15))\n",
    "predict_y = sig_clf.predict_proba(X_test)\n",
    "print('For values of best alpha = ', alpha[best_alpha], \"The test log loss is:\",log_loss(y_test, predict_y, labels=clf.classes_, eps=1e-15))\n",
    "predicted_y =np.argmax(predict_y,axis=1)\n",
    "print(\"Total number of data points :\", len(predicted_y))\n",
    "plot_confusion_matrix(y_test, predicted_y)"
   ]
  },
  {
   "cell_type": "markdown",
   "metadata": {
    "colab_type": "text",
    "id": "ZhTJgclztAS6"
   },
   "source": [
    "<h2> 4.6 XGBoost </h2>"
   ]
  },
  {
   "cell_type": "code",
   "execution_count": 16,
   "metadata": {
    "colab": {},
    "colab_type": "code",
    "id": "9U367-xetAS7",
    "outputId": "167e8588-2ac4-4c6d-ac22-f56a2fce5657"
   },
   "outputs": [
    {
     "name": "stdout",
     "output_type": "stream",
     "text": [
      "[0]\ttrain-logloss:0.68492\tvalid-logloss:0.68482\n",
      "Multiple eval metrics have been passed: 'valid-logloss' will be used for early stopping.\n",
      "\n",
      "Will train until valid-logloss hasn't improved in 20 rounds.\n",
      "[10]\ttrain-logloss:0.61611\tvalid-logloss:0.61560\n",
      "[20]\ttrain-logloss:0.56573\tvalid-logloss:0.56496\n",
      "[30]\ttrain-logloss:0.52798\tvalid-logloss:0.52708\n",
      "[40]\ttrain-logloss:0.49858\tvalid-logloss:0.49776\n",
      "[50]\ttrain-logloss:0.47571\tvalid-logloss:0.47506\n",
      "[60]\ttrain-logloss:0.45738\tvalid-logloss:0.45685\n",
      "[70]\ttrain-logloss:0.44294\tvalid-logloss:0.44256\n",
      "[80]\ttrain-logloss:0.43095\tvalid-logloss:0.43064\n",
      "[90]\ttrain-logloss:0.42125\tvalid-logloss:0.42108\n",
      "[100]\ttrain-logloss:0.41306\tvalid-logloss:0.41302\n",
      "[110]\ttrain-logloss:0.40619\tvalid-logloss:0.40634\n",
      "[120]\ttrain-logloss:0.40043\tvalid-logloss:0.40075\n",
      "[130]\ttrain-logloss:0.39552\tvalid-logloss:0.39598\n",
      "[140]\ttrain-logloss:0.39096\tvalid-logloss:0.39162\n",
      "[150]\ttrain-logloss:0.38731\tvalid-logloss:0.38818\n",
      "[160]\ttrain-logloss:0.38416\tvalid-logloss:0.38522\n",
      "[170]\ttrain-logloss:0.38119\tvalid-logloss:0.38258\n",
      "[180]\ttrain-logloss:0.37866\tvalid-logloss:0.38036\n",
      "[190]\ttrain-logloss:0.37622\tvalid-logloss:0.37822\n",
      "[200]\ttrain-logloss:0.37410\tvalid-logloss:0.37640\n",
      "[210]\ttrain-logloss:0.37209\tvalid-logloss:0.37471\n",
      "[220]\ttrain-logloss:0.37025\tvalid-logloss:0.37318\n",
      "[230]\ttrain-logloss:0.36840\tvalid-logloss:0.37169\n",
      "[240]\ttrain-logloss:0.36658\tvalid-logloss:0.37020\n",
      "[250]\ttrain-logloss:0.36475\tvalid-logloss:0.36869\n",
      "[260]\ttrain-logloss:0.36312\tvalid-logloss:0.36738\n",
      "[270]\ttrain-logloss:0.36158\tvalid-logloss:0.36616\n",
      "[280]\ttrain-logloss:0.36006\tvalid-logloss:0.36501\n",
      "[290]\ttrain-logloss:0.35864\tvalid-logloss:0.36397\n",
      "[300]\ttrain-logloss:0.35724\tvalid-logloss:0.36297\n",
      "[310]\ttrain-logloss:0.35589\tvalid-logloss:0.36204\n",
      "[320]\ttrain-logloss:0.35457\tvalid-logloss:0.36114\n",
      "[330]\ttrain-logloss:0.35324\tvalid-logloss:0.36021\n",
      "[340]\ttrain-logloss:0.35195\tvalid-logloss:0.35933\n",
      "[350]\ttrain-logloss:0.35082\tvalid-logloss:0.35864\n",
      "[360]\ttrain-logloss:0.34964\tvalid-logloss:0.35779\n",
      "[370]\ttrain-logloss:0.34853\tvalid-logloss:0.35709\n",
      "[380]\ttrain-logloss:0.34744\tvalid-logloss:0.35644\n",
      "[390]\ttrain-logloss:0.34642\tvalid-logloss:0.35578\n",
      "[399]\ttrain-logloss:0.34543\tvalid-logloss:0.35513\n",
      "The test log loss is: 0.3551322911627765\n"
     ]
    }
   ],
   "source": [
    "import xgboost as xgb\n",
    "params = {}\n",
    "params['objective'] = 'binary:logistic'\n",
    "params['eval_metric'] = 'logloss'\n",
    "params['eta'] = 0.02\n",
    "params['max_depth'] = 4\n",
    "\n",
    "d_train = xgb.DMatrix(X_train, label=y_train)\n",
    "d_test = xgb.DMatrix(X_test, label=y_test)\n",
    "\n",
    "watchlist = [(d_train, 'train'), (d_test, 'valid')]\n",
    "\n",
    "bst = xgb.train(params, d_train, 400, watchlist, early_stopping_rounds=20, verbose_eval=10)\n",
    "\n",
    "xgdmat = xgb.DMatrix(X_train,y_train)\n",
    "predict_y = bst.predict(d_test)\n",
    "print(\"The test log loss is:\",log_loss(y_test, predict_y, labels=clf.classes_, eps=1e-15))"
   ]
  },
  {
   "cell_type": "code",
   "execution_count": 17,
   "metadata": {
    "colab": {},
    "colab_type": "code",
    "id": "6U5b17AatAS_",
    "outputId": "ca83b680-023b-4bc5-f499-8d8d85c2ff5e"
   },
   "outputs": [
    {
     "name": "stdout",
     "output_type": "stream",
     "text": [
      "Total number of data points : 30000\n"
     ]
    },
    {
     "data": {
      "image/png": "[encoded data removed]",
      "text/plain": [
       "<Figure size 1440x288 with 6 Axes>"
      ]
     },
     "metadata": {
      "needs_background": "light"
     },
     "output_type": "display_data"
    }
   ],
   "source": [
    "predicted_y =np.array(predict_y>0.5,dtype=int)\n",
    "print(\"Total number of data points :\", len(predicted_y))\n",
    "plot_confusion_matrix(y_test, predicted_y)"
   ]
  },
  {
   "cell_type": "markdown",
   "metadata": {},
   "source": [
    "# Performing hyperparameter tuning  of XgBoost models using RandomsearchCV with vectorizer as TF-IDF W2V  to reduce the log-loss.\n"
   ]
  },
  {
   "cell_type": "code",
   "execution_count": 14,
   "metadata": {},
   "outputs": [],
   "source": [
    "dfxg=pd.read_csv('D:/AAIC-PROJS/QUORA/Quora-20200911T114809Z-001/Quora/nlp_features_train.csv',encoding='latin-1', nrows=100000)"
   ]
  },
  {
   "cell_type": "code",
   "execution_count": 15,
   "metadata": {},
   "outputs": [],
   "source": [
    "y = dfxg['is_duplicate'].values\n",
    "X = dfxg.drop(['is_duplicate'], axis=1)\n",
    "\n",
    "X_train, X_test, y_train, y_test = train_test_split(X, y, test_size=0.30, stratify=y)\n",
    "X_train, X_cv, y_train, y_cv = train_test_split(X_train, y_train, test_size=0.30, stratify=y_train)\n",
    "\n",
    "X_train['question1'] = X_train['question1'].apply(lambda x: str(x))\n",
    "X_train['question2'] = X_train['question2'].apply(lambda x: str(x))\n",
    "\n",
    "X_test['question1'] = X_test['question1'].apply(lambda x: str(x))\n",
    "X_test['question2'] = X_test['question2'].apply(lambda x: str(x))\n",
    "\n",
    "X_cv['question1'] = X_cv['question1'].apply(lambda x: str(x))\n",
    "X_cv['question2'] = X_cv['question2'].apply(lambda x: str(x))"
   ]
  },
  {
   "cell_type": "code",
   "execution_count": 16,
   "metadata": {},
   "outputs": [],
   "source": [
    "from sklearn.feature_extraction.text import TfidfVectorizer\n",
    "from sklearn.feature_extraction.text import CountVectorizer\n",
    "# merge texts\n",
    "questions = list(X_train['question1']) + list(X_train['question2'])\n",
    "\n",
    "tfidf = TfidfVectorizer(lowercase=False, )\n",
    "tfidf.fit_transform(questions)\n",
    "\n",
    "# dict key:word and value:tf-idf score\n",
    "word2tfidf_train = dict(zip(tfidf.get_feature_names(), tfidf.idf_))\n",
    "\n",
    "\n",
    "# from sklearn.feature_extraction.text import TfidfVectorizer\n",
    "# from sklearn.feature_extraction.text import CountVectorizer\n",
    "# # merge texts\n",
    "# questions = list(X_test['question1']) + list(X_test['question2'])\n",
    "\n",
    "# # tfidf = TfidfVectorizer(lowercase=False, )\n",
    "# tfidf.fit_transform(questions)\n",
    "\n",
    "# # dict key:word and value:tf-idf score\n",
    "# word2tfidf_test = dict(zip(tfidf.get_feature_names(), tfidf.idf_))\n",
    "\n",
    "# questions = list(X_cv['question1']) + list(X_cv['question2'])\n",
    "\n",
    "# # tfidf = TfidfVectorizer(lowercase=False, )\n",
    "# tfidf.fit_transform(questions)\n",
    "\n",
    "# # dict key:word and value:tf-idf score\n",
    "# word2tfidf_cv = dict(zip(tfidf.get_feature_names(), tfidf.idf_))\n",
    "\n"
   ]
  },
  {
   "cell_type": "code",
   "execution_count": 17,
   "metadata": {},
   "outputs": [
    {
     "name": "stderr",
     "output_type": "stream",
     "text": [
      "100%|███████████████████████████████████████████████████████████████████████████| 49000/49000 [04:46<00:00, 170.84it/s]\n"
     ]
    }
   ],
   "source": [
    "# en_vectors_web_lg, which includes over 1 million unique vectors.\n",
    "import spacy\n",
    "from tqdm import tqdm\n",
    "nlp = spacy.load('en_core_web_sm')\n",
    "\n",
    "vecs1 = []\n",
    "# https://github.com/noamraph/tqdm\n",
    "# tqdm is used to print the progress bar\n",
    "for qu1 in tqdm(list(X_train['question1'])):\n",
    "    doc1 = nlp(qu1) \n",
    "    # 384 is the number of dimensions of vectors \n",
    "    mean_vec1 = np.zeros([len(doc1), len(doc1[0].vector)])\n",
    "    for word1 in doc1:\n",
    "        # word2vec\n",
    "        vec1 = word1.vector\n",
    "        # fetch df score\n",
    "        try:\n",
    "            idf = word2tfidf_train[str(word1)]\n",
    "        except:\n",
    "            idf = 0\n",
    "        # compute final vec\n",
    "        mean_vec1 += vec1 * idf\n",
    "    mean_vec1 = mean_vec1.mean(axis=0)\n",
    "    vecs1.append(mean_vec1)\n",
    "X_train['q1_feats_m'] = list(vecs1)\n",
    "\n",
    "\n",
    "# en_vectors_web_lg, which includes over 1 million unique vectors.\n",
    "# nlp = spacy.load('en_core_web_sm')\n"
   ]
  },
  {
   "cell_type": "code",
   "execution_count": 18,
   "metadata": {},
   "outputs": [
    {
     "name": "stderr",
     "output_type": "stream",
     "text": [
      "100%|███████████████████████████████████████████████████████████████████████████| 49000/49000 [04:42<00:00, 173.37it/s]\n"
     ]
    }
   ],
   "source": [
    "\n",
    "vecs2 = []\n",
    "for qu2 in tqdm(list(X_train['question2'])):\n",
    "    doc2 = nlp(qu2) \n",
    "    mean_vec2 = np.zeros([len(doc1), len(doc2[0].vector)])\n",
    "    for word2 in doc2:\n",
    "        # word2vec\n",
    "        vec2 = word2.vector\n",
    "        # fetch df score\n",
    "        try:\n",
    "            idf = word2tfidf_train[str(word2)]\n",
    "        except:\n",
    "            #print word\n",
    "            idf = 0\n",
    "        # compute final vec\n",
    "        mean_vec2 += vec2 * idf\n",
    "    mean_vec2 = mean_vec2.mean(axis=0)\n",
    "    vecs2.append(mean_vec2)\n",
    "X_train['q2_feats_m'] = list(vecs2)\n",
    "\n"
   ]
  },
  {
   "cell_type": "code",
   "execution_count": 19,
   "metadata": {},
   "outputs": [],
   "source": [
    "dftr_q1 = pd.DataFrame(X_train.q1_feats_m.values.tolist(), index= X_train.index)\n",
    "dftr_q2 = pd.DataFrame(X_train.q2_feats_m.values.tolist(), index= X_train.index)"
   ]
  },
  {
   "cell_type": "code",
   "execution_count": 21,
   "metadata": {},
   "outputs": [],
   "source": [
    "train_df=pd.concat([dftr_q1, dftr_q2], axis=1)\n"
   ]
  },
  {
   "cell_type": "code",
   "execution_count": 22,
   "metadata": {},
   "outputs": [],
   "source": [
    "train_df=pd.concat([X_train,train_df],axis=1)\n"
   ]
  },
  {
   "cell_type": "code",
   "execution_count": 23,
   "metadata": {},
   "outputs": [],
   "source": [
    "df_train=train_df.drop(columns=['id','qid1','qid2','question1','question2','q2_feats_m','q1_feats_m'])"
   ]
  },
  {
   "cell_type": "code",
   "execution_count": 24,
   "metadata": {},
   "outputs": [
    {
     "data": {
      "text/plain": [
       "(49000, 207)"
      ]
     },
     "execution_count": 24,
     "metadata": {},
     "output_type": "execute_result"
    }
   ],
   "source": [
    "df_train.shape"
   ]
  },
  {
   "cell_type": "code",
   "execution_count": 26,
   "metadata": {},
   "outputs": [
    {
     "name": "stderr",
     "output_type": "stream",
     "text": [
      "100%|███████████████████████████████████████████████████████████████████████████| 30000/30000 [02:53<00:00, 172.56it/s]\n",
      "100%|███████████████████████████████████████████████████████████████████████████| 30000/30000 [02:54<00:00, 171.76it/s]\n"
     ]
    }
   ],
   "source": [
    "\n",
    "\n",
    "# en_vectors_web_sm, which includes over 1 million unique vectors.\n",
    "import spacy\n",
    "from tqdm import tqdm\n",
    "nlp = spacy.load('en_core_web_sm')\n",
    "\n",
    "vecs1 = []\n",
    "# https://github.com/noamraph/tqdm\n",
    "# tqdm is used to print the progress bar\n",
    "for qu1 in tqdm(list(X_test['question1'])):\n",
    "    doc1 = nlp(qu1) \n",
    "    # 384 is the number of dimensions of vectors \n",
    "    mean_vec1 = np.zeros([len(doc1), len(doc1[0].vector)])\n",
    "    for word1 in doc1:\n",
    "        # word2vec\n",
    "        vec1 = word1.vector\n",
    "        # fetch df score\n",
    "        try:\n",
    "            idf = word2tfidf_train[str(word1)]\n",
    "        except:\n",
    "            idf = 0\n",
    "        # compute final vec\n",
    "        mean_vec1 += vec1 * idf\n",
    "    mean_vec1 = mean_vec1.mean(axis=0)\n",
    "    vecs1.append(mean_vec1)\n",
    "X_test['q1_feats_m'] = list(vecs1)\n",
    "\n",
    "\n",
    "# en_vectors_web_lg, which includes over 1 million unique vectors.\n",
    "# nlp = spacy.load('en_core_web_sm')\n",
    "\n",
    "\n",
    "\n",
    "vecs2 = []\n",
    "for qu2 in tqdm(list(X_test['question2'])):\n",
    "    doc2 = nlp(qu2) \n",
    "    mean_vec2 = np.zeros([len(doc1), len(doc2[0].vector)])\n",
    "    for word2 in doc2:\n",
    "        # word2vec\n",
    "        vec2 = word2.vector\n",
    "        # fetch df score\n",
    "        try:\n",
    "            idf = word2tfidf_train[str(word2)]\n",
    "        except:\n",
    "            #print word\n",
    "            idf = 0\n",
    "        # compute final vec\n",
    "        mean_vec2 += vec2 * idf\n",
    "    mean_vec2 = mean_vec2.mean(axis=0)\n",
    "    vecs2.append(mean_vec2)\n",
    "X_test['q2_feats_m'] = list(vecs2)\n",
    "\n",
    "\n",
    "\n",
    "dfte_q1 = pd.DataFrame(X_test.q1_feats_m.values.tolist(), index= X_test.index)\n",
    "dfte_q2 = pd.DataFrame(X_test.q2_feats_m.values.tolist(), index= X_test.index)"
   ]
  },
  {
   "cell_type": "code",
   "execution_count": 27,
   "metadata": {},
   "outputs": [],
   "source": [
    "test_df=pd.concat([dfte_q1, dfte_q2], axis=1)\n",
    "\n",
    "\n",
    "test_df=pd.concat([X_test,test_df],axis=1)\n",
    "\n",
    "\n",
    "df_test=test_df.drop(columns=['id','qid1','qid2','question1','question2','q2_feats_m','q1_feats_m'])"
   ]
  },
  {
   "cell_type": "code",
   "execution_count": 32,
   "metadata": {},
   "outputs": [
    {
     "data": {
      "text/plain": [
       "(49000,)"
      ]
     },
     "execution_count": 32,
     "metadata": {},
     "output_type": "execute_result"
    }
   ],
   "source": [
    "y_train.shape"
   ]
  },
  {
   "cell_type": "code",
   "execution_count": 29,
   "metadata": {},
   "outputs": [
    {
     "name": "stderr",
     "output_type": "stream",
     "text": [
      "100%|███████████████████████████████████████████████████████████████████████████| 21000/21000 [02:16<00:00, 154.04it/s]\n",
      "100%|███████████████████████████████████████████████████████████████████████████| 21000/21000 [02:06<00:00, 166.46it/s]\n"
     ]
    }
   ],
   "source": [
    "\n",
    "\n",
    "# en_vectors_web_sm, which includes over 1 million unique vectors.\n",
    "import spacy\n",
    "from tqdm import tqdm\n",
    "nlp = spacy.load('en_core_web_sm')\n",
    "\n",
    "vecs1 = []\n",
    "# https://github.com/noamraph/tqdm\n",
    "# tqdm is used to print the progress bar\n",
    "for qu1 in tqdm(list(X_cv['question1'])):\n",
    "    doc1 = nlp(qu1) \n",
    "    # 384 is the number of dimensions of vectors \n",
    "    mean_vec1 = np.zeros([len(doc1), len(doc1[0].vector)])\n",
    "    for word1 in doc1:\n",
    "        # word2vec\n",
    "        vec1 = word1.vector\n",
    "        # fetch df score\n",
    "        try:\n",
    "            idf = word2tfidf_train[str(word1)]\n",
    "        except:\n",
    "            idf = 0\n",
    "        # compute final vec\n",
    "        mean_vec1 += vec1 * idf\n",
    "    mean_vec1 = mean_vec1.mean(axis=0)\n",
    "    vecs1.append(mean_vec1)\n",
    "X_cv['q1_feats_m'] = list(vecs1)\n",
    "\n",
    "\n",
    "# en_vectors_web_lg, which includes over 1 million unique vectors.\n",
    "# nlp = spacy.load('en_core_web_sm')\n",
    "\n",
    "\n",
    "\n",
    "vecs2 = []\n",
    "for qu2 in tqdm(list(X_cv['question2'])):\n",
    "    doc2 = nlp(qu2) \n",
    "    mean_vec2 = np.zeros([len(doc1), len(doc2[0].vector)])\n",
    "    for word2 in doc2:\n",
    "        # word2vec\n",
    "        vec2 = word2.vector\n",
    "        # fetch df score\n",
    "        try:\n",
    "            idf = word2tfidf_train[str(word2)]\n",
    "        except:\n",
    "            #print word\n",
    "            idf = 0\n",
    "        # compute final vec\n",
    "        mean_vec2 += vec2 * idf\n",
    "    mean_vec2 = mean_vec2.mean(axis=0)\n",
    "    vecs2.append(mean_vec2)\n",
    "X_cv['q2_feats_m'] = list(vecs2)\n",
    "\n",
    "\n",
    "\n",
    "dfcv_q1 = pd.DataFrame(X_cv.q1_feats_m.values.tolist(), index= X_cv.index)\n",
    "dfcv_q2 = pd.DataFrame(X_cv.q2_feats_m.values.tolist(), index= X_cv.index)"
   ]
  },
  {
   "cell_type": "code",
   "execution_count": 30,
   "metadata": {},
   "outputs": [],
   "source": [
    "cv_df=pd.concat([dfcv_q1, dfcv_q2], axis=1)\n",
    "\n",
    "\n",
    "cv_df=pd.concat([X_cv,cv_df],axis=1)\n",
    "\n",
    "\n",
    "df_cv=cv_df.drop(columns=['id','qid1','qid2','question1','question2','q2_feats_m','q1_feats_m'])"
   ]
  },
  {
   "cell_type": "code",
   "execution_count": 52,
   "metadata": {},
   "outputs": [
    {
     "data": {
      "text/plain": [
       "(49000, 207)"
      ]
     },
     "execution_count": 52,
     "metadata": {},
     "output_type": "execute_result"
    }
   ],
   "source": [
    "df_train.shape\n"
   ]
  },
  {
   "cell_type": "code",
   "execution_count": 31,
   "metadata": {},
   "outputs": [],
   "source": [
    "df_train.to_csv('train_dfnew.csv')"
   ]
  },
  {
   "cell_type": "code",
   "execution_count": 32,
   "metadata": {},
   "outputs": [],
   "source": [
    "df_cv.to_csv('cv_df.csv')"
   ]
  },
  {
   "cell_type": "code",
   "execution_count": 33,
   "metadata": {},
   "outputs": [],
   "source": [
    "df_test.to_csv('test_df.csv')\n"
   ]
  },
  {
   "cell_type": "code",
   "execution_count": 34,
   "metadata": {},
   "outputs": [],
   "source": [
    "X_train=pd.read_csv('train_dfnew.csv')\n",
    "X_test=pd.read_csv('test_df.csv')\n",
    "X_cv=pd.read_csv('cv_df.csv')\n",
    "\n"
   ]
  },
  {
   "cell_type": "code",
   "execution_count": 35,
   "metadata": {},
   "outputs": [
    {
     "data": {
      "text/plain": [
       "(30000,)"
      ]
     },
     "execution_count": 35,
     "metadata": {},
     "output_type": "execute_result"
    }
   ],
   "source": [
    "y_test.shape\n"
   ]
  },
  {
   "cell_type": "code",
   "execution_count": 36,
   "metadata": {},
   "outputs": [],
   "source": [
    "X_train=X_train.drop(['Unnamed: 0'],axis=1)"
   ]
  },
  {
   "cell_type": "code",
   "execution_count": 37,
   "metadata": {},
   "outputs": [],
   "source": [
    "X_test=X_test.drop(['Unnamed: 0'],axis=1)\n",
    "X_cv=X_cv.drop(['Unnamed: 0'],axis=1)"
   ]
  },
  {
   "cell_type": "code",
   "execution_count": 38,
   "metadata": {},
   "outputs": [
    {
     "data": {
      "text/plain": [
       "(49000, 207)"
      ]
     },
     "execution_count": 38,
     "metadata": {},
     "output_type": "execute_result"
    }
   ],
   "source": [
    "X_train.shape"
   ]
  },
  {
   "cell_type": "code",
   "execution_count": 39,
   "metadata": {},
   "outputs": [
    {
     "name": "stdout",
     "output_type": "stream",
     "text": [
      "Randomized search..\n",
      "Fitting 2 folds for each of 20 candidates, totalling 40 fits\n",
      "[CV] subsample=0.7, silent=False, reg_lambda=50.0, objective=binary:logistic, n_estimators=100, min_child_weight=5.0, max_depth=5, learning_rate=0.01, gamma=1.0, eval_metric=logloss, eta=0.05, colsample_bytree=0.6, colsample_bylevel=0.4 \n"
     ]
    },
    {
     "name": "stderr",
     "output_type": "stream",
     "text": [
      "[Parallel(n_jobs=1)]: Using backend SequentialBackend with 1 concurrent workers.\n"
     ]
    },
    {
     "name": "stdout",
     "output_type": "stream",
     "text": [
      "[CV]  subsample=0.7, silent=False, reg_lambda=50.0, objective=binary:logistic, n_estimators=100, min_child_weight=5.0, max_depth=5, learning_rate=0.01, gamma=1.0, eval_metric=logloss, eta=0.05, colsample_bytree=0.6, colsample_bylevel=0.4, total=   7.2s\n",
      "[CV] subsample=0.7, silent=False, reg_lambda=50.0, objective=binary:logistic, n_estimators=100, min_child_weight=5.0, max_depth=5, learning_rate=0.01, gamma=1.0, eval_metric=logloss, eta=0.05, colsample_bytree=0.6, colsample_bylevel=0.4 \n"
     ]
    },
    {
     "name": "stderr",
     "output_type": "stream",
     "text": [
      "[Parallel(n_jobs=1)]: Done   1 out of   1 | elapsed:    7.1s remaining:    0.0s\n"
     ]
    },
    {
     "name": "stdout",
     "output_type": "stream",
     "text": [
      "[CV]  subsample=0.7, silent=False, reg_lambda=50.0, objective=binary:logistic, n_estimators=100, min_child_weight=5.0, max_depth=5, learning_rate=0.01, gamma=1.0, eval_metric=logloss, eta=0.05, colsample_bytree=0.6, colsample_bylevel=0.4, total=   4.2s\n",
      "[CV] subsample=0.6, silent=False, reg_lambda=1.0, objective=binary:logistic, n_estimators=100, min_child_weight=1.0, max_depth=20, learning_rate=0.2, gamma=0.5, eval_metric=logloss, eta=0.01, colsample_bytree=0.6, colsample_bylevel=0.6 \n",
      "[CV]  subsample=0.6, silent=False, reg_lambda=1.0, objective=binary:logistic, n_estimators=100, min_child_weight=1.0, max_depth=20, learning_rate=0.2, gamma=0.5, eval_metric=logloss, eta=0.01, colsample_bytree=0.6, colsample_bylevel=0.6, total=  12.3s\n",
      "[CV] subsample=0.6, silent=False, reg_lambda=1.0, objective=binary:logistic, n_estimators=100, min_child_weight=1.0, max_depth=20, learning_rate=0.2, gamma=0.5, eval_metric=logloss, eta=0.01, colsample_bytree=0.6, colsample_bylevel=0.6 \n",
      "[CV]  subsample=0.6, silent=False, reg_lambda=1.0, objective=binary:logistic, n_estimators=100, min_child_weight=1.0, max_depth=20, learning_rate=0.2, gamma=0.5, eval_metric=logloss, eta=0.01, colsample_bytree=0.6, colsample_bylevel=0.6, total=  13.3s\n",
      "[CV] subsample=0.9, silent=False, reg_lambda=50.0, objective=binary:logistic, n_estimators=100, min_child_weight=7.0, max_depth=15, learning_rate=0.2, gamma=0.5, eval_metric=logloss, eta=0.01, colsample_bytree=0.7, colsample_bylevel=0.4 \n",
      "[CV]  subsample=0.9, silent=False, reg_lambda=50.0, objective=binary:logistic, n_estimators=100, min_child_weight=7.0, max_depth=15, learning_rate=0.2, gamma=0.5, eval_metric=logloss, eta=0.01, colsample_bytree=0.7, colsample_bylevel=0.4, total=  11.0s\n",
      "[CV] subsample=0.9, silent=False, reg_lambda=50.0, objective=binary:logistic, n_estimators=100, min_child_weight=7.0, max_depth=15, learning_rate=0.2, gamma=0.5, eval_metric=logloss, eta=0.01, colsample_bytree=0.7, colsample_bylevel=0.4 \n",
      "[CV]  subsample=0.9, silent=False, reg_lambda=50.0, objective=binary:logistic, n_estimators=100, min_child_weight=7.0, max_depth=15, learning_rate=0.2, gamma=0.5, eval_metric=logloss, eta=0.01, colsample_bytree=0.7, colsample_bylevel=0.4, total=  11.5s\n",
      "[CV] subsample=0.9, silent=False, reg_lambda=1.0, objective=binary:logistic, n_estimators=100, min_child_weight=1.0, max_depth=5, learning_rate=0.2, gamma=0.25, eval_metric=logloss, eta=0.01, colsample_bytree=1.0, colsample_bylevel=0.8 \n",
      "[CV]  subsample=0.9, silent=False, reg_lambda=1.0, objective=binary:logistic, n_estimators=100, min_child_weight=1.0, max_depth=5, learning_rate=0.2, gamma=0.25, eval_metric=logloss, eta=0.01, colsample_bytree=1.0, colsample_bylevel=0.8, total=  11.4s\n",
      "[CV] subsample=0.9, silent=False, reg_lambda=1.0, objective=binary:logistic, n_estimators=100, min_child_weight=1.0, max_depth=5, learning_rate=0.2, gamma=0.25, eval_metric=logloss, eta=0.01, colsample_bytree=1.0, colsample_bylevel=0.8 \n",
      "[CV]  subsample=0.9, silent=False, reg_lambda=1.0, objective=binary:logistic, n_estimators=100, min_child_weight=1.0, max_depth=5, learning_rate=0.2, gamma=0.25, eval_metric=logloss, eta=0.01, colsample_bytree=1.0, colsample_bylevel=0.8, total=  11.8s\n",
      "[CV] subsample=0.7, silent=False, reg_lambda=5.0, objective=binary:logistic, n_estimators=100, min_child_weight=10.0, max_depth=20, learning_rate=0.2, gamma=1.0, eval_metric=logloss, eta=0.01, colsample_bytree=1.0, colsample_bylevel=0.4 \n",
      "[CV]  subsample=0.7, silent=False, reg_lambda=5.0, objective=binary:logistic, n_estimators=100, min_child_weight=10.0, max_depth=20, learning_rate=0.2, gamma=1.0, eval_metric=logloss, eta=0.01, colsample_bytree=1.0, colsample_bylevel=0.4, total=  13.1s\n",
      "[CV] subsample=0.7, silent=False, reg_lambda=5.0, objective=binary:logistic, n_estimators=100, min_child_weight=10.0, max_depth=20, learning_rate=0.2, gamma=1.0, eval_metric=logloss, eta=0.01, colsample_bytree=1.0, colsample_bylevel=0.4 \n",
      "[CV]  subsample=0.7, silent=False, reg_lambda=5.0, objective=binary:logistic, n_estimators=100, min_child_weight=10.0, max_depth=20, learning_rate=0.2, gamma=1.0, eval_metric=logloss, eta=0.01, colsample_bytree=1.0, colsample_bylevel=0.4, total=  14.2s\n",
      "[CV] subsample=1.0, silent=False, reg_lambda=10.0, objective=binary:logistic, n_estimators=100, min_child_weight=7.0, max_depth=5, learning_rate=0.01, gamma=0.25, eval_metric=logloss, eta=0.05, colsample_bytree=0.9, colsample_bylevel=0.9 \n",
      "[CV]  subsample=1.0, silent=False, reg_lambda=10.0, objective=binary:logistic, n_estimators=100, min_child_weight=7.0, max_depth=5, learning_rate=0.01, gamma=0.25, eval_metric=logloss, eta=0.05, colsample_bytree=0.9, colsample_bylevel=0.9, total=  11.2s\n",
      "[CV] subsample=1.0, silent=False, reg_lambda=10.0, objective=binary:logistic, n_estimators=100, min_child_weight=7.0, max_depth=5, learning_rate=0.01, gamma=0.25, eval_metric=logloss, eta=0.05, colsample_bytree=0.9, colsample_bylevel=0.9 \n",
      "[CV]  subsample=1.0, silent=False, reg_lambda=10.0, objective=binary:logistic, n_estimators=100, min_child_weight=7.0, max_depth=5, learning_rate=0.01, gamma=0.25, eval_metric=logloss, eta=0.05, colsample_bytree=0.9, colsample_bylevel=0.9, total=  14.0s\n",
      "[CV] subsample=0.5, silent=False, reg_lambda=0.1, objective=binary:logistic, n_estimators=100, min_child_weight=5.0, max_depth=15, learning_rate=0.1, gamma=0.5, eval_metric=logloss, eta=0.04, colsample_bytree=0.6, colsample_bylevel=0.4 \n",
      "[CV]  subsample=0.5, silent=False, reg_lambda=0.1, objective=binary:logistic, n_estimators=100, min_child_weight=5.0, max_depth=15, learning_rate=0.1, gamma=0.5, eval_metric=logloss, eta=0.04, colsample_bytree=0.6, colsample_bylevel=0.4, total=   9.4s\n",
      "[CV] subsample=0.5, silent=False, reg_lambda=0.1, objective=binary:logistic, n_estimators=100, min_child_weight=5.0, max_depth=15, learning_rate=0.1, gamma=0.5, eval_metric=logloss, eta=0.04, colsample_bytree=0.6, colsample_bylevel=0.4 \n",
      "[CV]  subsample=0.5, silent=False, reg_lambda=0.1, objective=binary:logistic, n_estimators=100, min_child_weight=5.0, max_depth=15, learning_rate=0.1, gamma=0.5, eval_metric=logloss, eta=0.04, colsample_bytree=0.6, colsample_bylevel=0.4, total=   9.5s\n",
      "[CV] subsample=0.5, silent=False, reg_lambda=5.0, objective=binary:logistic, n_estimators=100, min_child_weight=7.0, max_depth=10, learning_rate=0.1, gamma=0.5, eval_metric=logloss, eta=0.04, colsample_bytree=0.7, colsample_bylevel=0.6 \n",
      "[CV]  subsample=0.5, silent=False, reg_lambda=5.0, objective=binary:logistic, n_estimators=100, min_child_weight=7.0, max_depth=10, learning_rate=0.1, gamma=0.5, eval_metric=logloss, eta=0.04, colsample_bytree=0.7, colsample_bylevel=0.6, total=  10.6s\n",
      "[CV] subsample=0.5, silent=False, reg_lambda=5.0, objective=binary:logistic, n_estimators=100, min_child_weight=7.0, max_depth=10, learning_rate=0.1, gamma=0.5, eval_metric=logloss, eta=0.04, colsample_bytree=0.7, colsample_bylevel=0.6 \n",
      "[CV]  subsample=0.5, silent=False, reg_lambda=5.0, objective=binary:logistic, n_estimators=100, min_child_weight=7.0, max_depth=10, learning_rate=0.1, gamma=0.5, eval_metric=logloss, eta=0.04, colsample_bytree=0.7, colsample_bylevel=0.6, total=  10.0s\n",
      "[CV] subsample=0.7, silent=False, reg_lambda=50.0, objective=binary:logistic, n_estimators=100, min_child_weight=5.0, max_depth=5, learning_rate=0.2, gamma=0.25, eval_metric=logloss, eta=0.04, colsample_bytree=0.9, colsample_bylevel=0.7 \n",
      "[CV]  subsample=0.7, silent=False, reg_lambda=50.0, objective=binary:logistic, n_estimators=100, min_child_weight=5.0, max_depth=5, learning_rate=0.2, gamma=0.25, eval_metric=logloss, eta=0.04, colsample_bytree=0.9, colsample_bylevel=0.7, total=   9.4s\n",
      "[CV] subsample=0.7, silent=False, reg_lambda=50.0, objective=binary:logistic, n_estimators=100, min_child_weight=5.0, max_depth=5, learning_rate=0.2, gamma=0.25, eval_metric=logloss, eta=0.04, colsample_bytree=0.9, colsample_bylevel=0.7 \n",
      "[CV]  subsample=0.7, silent=False, reg_lambda=50.0, objective=binary:logistic, n_estimators=100, min_child_weight=5.0, max_depth=5, learning_rate=0.2, gamma=0.25, eval_metric=logloss, eta=0.04, colsample_bytree=0.9, colsample_bylevel=0.7, total=   8.8s\n",
      "[CV] subsample=0.8, silent=False, reg_lambda=100.0, objective=binary:logistic, n_estimators=100, min_child_weight=7.0, max_depth=20, learning_rate=0.2, gamma=0, eval_metric=logloss, eta=0.02, colsample_bytree=0.7, colsample_bylevel=0.4 \n"
     ]
    },
    {
     "name": "stdout",
     "output_type": "stream",
     "text": [
      "[CV]  subsample=0.8, silent=False, reg_lambda=100.0, objective=binary:logistic, n_estimators=100, min_child_weight=7.0, max_depth=20, learning_rate=0.2, gamma=0, eval_metric=logloss, eta=0.02, colsample_bytree=0.7, colsample_bylevel=0.4, total=  13.3s\n",
      "[CV] subsample=0.8, silent=False, reg_lambda=100.0, objective=binary:logistic, n_estimators=100, min_child_weight=7.0, max_depth=20, learning_rate=0.2, gamma=0, eval_metric=logloss, eta=0.02, colsample_bytree=0.7, colsample_bylevel=0.4 \n",
      "[CV]  subsample=0.8, silent=False, reg_lambda=100.0, objective=binary:logistic, n_estimators=100, min_child_weight=7.0, max_depth=20, learning_rate=0.2, gamma=0, eval_metric=logloss, eta=0.02, colsample_bytree=0.7, colsample_bylevel=0.4, total=  12.8s\n",
      "[CV] subsample=0.7, silent=False, reg_lambda=50.0, objective=binary:logistic, n_estimators=100, min_child_weight=0.5, max_depth=10, learning_rate=0.2, gamma=0.25, eval_metric=logloss, eta=0.01, colsample_bytree=0.7, colsample_bylevel=0.7 \n",
      "[CV]  subsample=0.7, silent=False, reg_lambda=50.0, objective=binary:logistic, n_estimators=100, min_child_weight=0.5, max_depth=10, learning_rate=0.2, gamma=0.25, eval_metric=logloss, eta=0.01, colsample_bytree=0.7, colsample_bylevel=0.7, total=  15.5s\n",
      "[CV] subsample=0.7, silent=False, reg_lambda=50.0, objective=binary:logistic, n_estimators=100, min_child_weight=0.5, max_depth=10, learning_rate=0.2, gamma=0.25, eval_metric=logloss, eta=0.01, colsample_bytree=0.7, colsample_bylevel=0.7 \n",
      "[CV]  subsample=0.7, silent=False, reg_lambda=50.0, objective=binary:logistic, n_estimators=100, min_child_weight=0.5, max_depth=10, learning_rate=0.2, gamma=0.25, eval_metric=logloss, eta=0.01, colsample_bytree=0.7, colsample_bylevel=0.7, total=  14.3s\n",
      "[CV] subsample=0.9, silent=False, reg_lambda=1.0, objective=binary:logistic, n_estimators=100, min_child_weight=5.0, max_depth=5, learning_rate=0.2, gamma=0.25, eval_metric=logloss, eta=0.05, colsample_bytree=0.6, colsample_bylevel=0.9 \n",
      "[CV]  subsample=0.9, silent=False, reg_lambda=1.0, objective=binary:logistic, n_estimators=100, min_child_weight=5.0, max_depth=5, learning_rate=0.2, gamma=0.25, eval_metric=logloss, eta=0.05, colsample_bytree=0.6, colsample_bylevel=0.9, total=   8.8s\n",
      "[CV] subsample=0.9, silent=False, reg_lambda=1.0, objective=binary:logistic, n_estimators=100, min_child_weight=5.0, max_depth=5, learning_rate=0.2, gamma=0.25, eval_metric=logloss, eta=0.05, colsample_bytree=0.6, colsample_bylevel=0.9 \n",
      "[CV]  subsample=0.9, silent=False, reg_lambda=1.0, objective=binary:logistic, n_estimators=100, min_child_weight=5.0, max_depth=5, learning_rate=0.2, gamma=0.25, eval_metric=logloss, eta=0.05, colsample_bytree=0.6, colsample_bylevel=0.9, total=   8.4s\n",
      "[CV] subsample=0.5, silent=False, reg_lambda=10.0, objective=binary:logistic, n_estimators=100, min_child_weight=3.0, max_depth=15, learning_rate=0.2, gamma=0, eval_metric=logloss, eta=0.02, colsample_bytree=1.0, colsample_bylevel=1.0 \n",
      "[CV]  subsample=0.5, silent=False, reg_lambda=10.0, objective=binary:logistic, n_estimators=100, min_child_weight=3.0, max_depth=15, learning_rate=0.2, gamma=0, eval_metric=logloss, eta=0.02, colsample_bytree=1.0, colsample_bylevel=1.0, total=  22.6s\n",
      "[CV] subsample=0.5, silent=False, reg_lambda=10.0, objective=binary:logistic, n_estimators=100, min_child_weight=3.0, max_depth=15, learning_rate=0.2, gamma=0, eval_metric=logloss, eta=0.02, colsample_bytree=1.0, colsample_bylevel=1.0 \n",
      "[CV]  subsample=0.5, silent=False, reg_lambda=10.0, objective=binary:logistic, n_estimators=100, min_child_weight=3.0, max_depth=15, learning_rate=0.2, gamma=0, eval_metric=logloss, eta=0.02, colsample_bytree=1.0, colsample_bylevel=1.0, total=  23.2s\n",
      "[CV] subsample=0.9, silent=False, reg_lambda=10.0, objective=binary:logistic, n_estimators=100, min_child_weight=5.0, max_depth=20, learning_rate=0.01, gamma=0.5, eval_metric=logloss, eta=0.02, colsample_bytree=1.0, colsample_bylevel=0.7 \n",
      "[CV]  subsample=0.9, silent=False, reg_lambda=10.0, objective=binary:logistic, n_estimators=100, min_child_weight=5.0, max_depth=20, learning_rate=0.01, gamma=0.5, eval_metric=logloss, eta=0.02, colsample_bytree=1.0, colsample_bylevel=0.7, total=  26.2s\n",
      "[CV] subsample=0.9, silent=False, reg_lambda=10.0, objective=binary:logistic, n_estimators=100, min_child_weight=5.0, max_depth=20, learning_rate=0.01, gamma=0.5, eval_metric=logloss, eta=0.02, colsample_bytree=1.0, colsample_bylevel=0.7 \n",
      "[CV]  subsample=0.9, silent=False, reg_lambda=10.0, objective=binary:logistic, n_estimators=100, min_child_weight=5.0, max_depth=20, learning_rate=0.01, gamma=0.5, eval_metric=logloss, eta=0.02, colsample_bytree=1.0, colsample_bylevel=0.7, total=  27.3s\n",
      "[CV] subsample=0.8, silent=False, reg_lambda=50.0, objective=binary:logistic, n_estimators=100, min_child_weight=1.0, max_depth=10, learning_rate=0.1, gamma=1.0, eval_metric=logloss, eta=0.05, colsample_bytree=0.8, colsample_bylevel=1.0 \n",
      "[CV]  subsample=0.8, silent=False, reg_lambda=50.0, objective=binary:logistic, n_estimators=100, min_child_weight=1.0, max_depth=10, learning_rate=0.1, gamma=1.0, eval_metric=logloss, eta=0.05, colsample_bytree=0.8, colsample_bylevel=1.0, total=  22.4s\n",
      "[CV] subsample=0.8, silent=False, reg_lambda=50.0, objective=binary:logistic, n_estimators=100, min_child_weight=1.0, max_depth=10, learning_rate=0.1, gamma=1.0, eval_metric=logloss, eta=0.05, colsample_bytree=0.8, colsample_bylevel=1.0 \n",
      "[CV]  subsample=0.8, silent=False, reg_lambda=50.0, objective=binary:logistic, n_estimators=100, min_child_weight=1.0, max_depth=10, learning_rate=0.1, gamma=1.0, eval_metric=logloss, eta=0.05, colsample_bytree=0.8, colsample_bylevel=1.0, total=  21.9s\n",
      "[CV] subsample=0.5, silent=False, reg_lambda=5.0, objective=binary:logistic, n_estimators=100, min_child_weight=7.0, max_depth=10, learning_rate=0.01, gamma=0, eval_metric=logloss, eta=0.01, colsample_bytree=0.5, colsample_bylevel=0.7 \n",
      "[CV]  subsample=0.5, silent=False, reg_lambda=5.0, objective=binary:logistic, n_estimators=100, min_child_weight=7.0, max_depth=10, learning_rate=0.01, gamma=0, eval_metric=logloss, eta=0.01, colsample_bytree=0.5, colsample_bylevel=0.7, total=   8.9s\n",
      "[CV] subsample=0.5, silent=False, reg_lambda=5.0, objective=binary:logistic, n_estimators=100, min_child_weight=7.0, max_depth=10, learning_rate=0.01, gamma=0, eval_metric=logloss, eta=0.01, colsample_bytree=0.5, colsample_bylevel=0.7 \n",
      "[CV]  subsample=0.5, silent=False, reg_lambda=5.0, objective=binary:logistic, n_estimators=100, min_child_weight=7.0, max_depth=10, learning_rate=0.01, gamma=0, eval_metric=logloss, eta=0.01, colsample_bytree=0.5, colsample_bylevel=0.7, total=   8.7s\n",
      "[CV] subsample=0.8, silent=False, reg_lambda=50.0, objective=binary:logistic, n_estimators=100, min_child_weight=0.5, max_depth=20, learning_rate=0.1, gamma=1.0, eval_metric=logloss, eta=0.01, colsample_bytree=0.8, colsample_bylevel=0.4 \n",
      "[CV]  subsample=0.8, silent=False, reg_lambda=50.0, objective=binary:logistic, n_estimators=100, min_child_weight=0.5, max_depth=20, learning_rate=0.1, gamma=1.0, eval_metric=logloss, eta=0.01, colsample_bytree=0.8, colsample_bylevel=0.4, total=  20.2s\n",
      "[CV] subsample=0.8, silent=False, reg_lambda=50.0, objective=binary:logistic, n_estimators=100, min_child_weight=0.5, max_depth=20, learning_rate=0.1, gamma=1.0, eval_metric=logloss, eta=0.01, colsample_bytree=0.8, colsample_bylevel=0.4 \n",
      "[CV]  subsample=0.8, silent=False, reg_lambda=50.0, objective=binary:logistic, n_estimators=100, min_child_weight=0.5, max_depth=20, learning_rate=0.1, gamma=1.0, eval_metric=logloss, eta=0.01, colsample_bytree=0.8, colsample_bylevel=0.4, total=  19.7s\n",
      "[CV] subsample=1.0, silent=False, reg_lambda=100.0, objective=binary:logistic, n_estimators=100, min_child_weight=1.0, max_depth=5, learning_rate=0.1, gamma=0.5, eval_metric=logloss, eta=0.05, colsample_bytree=0.5, colsample_bylevel=0.8 \n",
      "[CV]  subsample=1.0, silent=False, reg_lambda=100.0, objective=binary:logistic, n_estimators=100, min_child_weight=1.0, max_depth=5, learning_rate=0.1, gamma=0.5, eval_metric=logloss, eta=0.05, colsample_bytree=0.5, colsample_bylevel=0.8, total=   9.0s\n",
      "[CV] subsample=1.0, silent=False, reg_lambda=100.0, objective=binary:logistic, n_estimators=100, min_child_weight=1.0, max_depth=5, learning_rate=0.1, gamma=0.5, eval_metric=logloss, eta=0.05, colsample_bytree=0.5, colsample_bylevel=0.8 \n"
     ]
    },
    {
     "name": "stdout",
     "output_type": "stream",
     "text": [
      "[CV]  subsample=1.0, silent=False, reg_lambda=100.0, objective=binary:logistic, n_estimators=100, min_child_weight=1.0, max_depth=5, learning_rate=0.1, gamma=0.5, eval_metric=logloss, eta=0.05, colsample_bytree=0.5, colsample_bylevel=0.8, total=   7.6s\n",
      "[CV] subsample=0.6, silent=False, reg_lambda=100.0, objective=binary:logistic, n_estimators=100, min_child_weight=7.0, max_depth=20, learning_rate=0.01, gamma=1.0, eval_metric=logloss, eta=0.04, colsample_bytree=1.0, colsample_bylevel=0.4 \n",
      "[CV]  subsample=0.6, silent=False, reg_lambda=100.0, objective=binary:logistic, n_estimators=100, min_child_weight=7.0, max_depth=20, learning_rate=0.01, gamma=1.0, eval_metric=logloss, eta=0.04, colsample_bytree=1.0, colsample_bylevel=0.4, total=  13.7s\n",
      "[CV] subsample=0.6, silent=False, reg_lambda=100.0, objective=binary:logistic, n_estimators=100, min_child_weight=7.0, max_depth=20, learning_rate=0.01, gamma=1.0, eval_metric=logloss, eta=0.04, colsample_bytree=1.0, colsample_bylevel=0.4 \n",
      "[CV]  subsample=0.6, silent=False, reg_lambda=100.0, objective=binary:logistic, n_estimators=100, min_child_weight=7.0, max_depth=20, learning_rate=0.01, gamma=1.0, eval_metric=logloss, eta=0.04, colsample_bytree=1.0, colsample_bylevel=0.4, total=  13.0s\n",
      "[CV] subsample=0.7, silent=False, reg_lambda=5.0, objective=binary:logistic, n_estimators=100, min_child_weight=1.0, max_depth=15, learning_rate=0.2, gamma=1.0, eval_metric=logloss, eta=0.05, colsample_bytree=0.4, colsample_bylevel=0.4 \n",
      "[CV]  subsample=0.7, silent=False, reg_lambda=5.0, objective=binary:logistic, n_estimators=100, min_child_weight=1.0, max_depth=15, learning_rate=0.2, gamma=1.0, eval_metric=logloss, eta=0.05, colsample_bytree=0.4, colsample_bylevel=0.4, total=   9.6s\n",
      "[CV] subsample=0.7, silent=False, reg_lambda=5.0, objective=binary:logistic, n_estimators=100, min_child_weight=1.0, max_depth=15, learning_rate=0.2, gamma=1.0, eval_metric=logloss, eta=0.05, colsample_bytree=0.4, colsample_bylevel=0.4 \n",
      "[CV]  subsample=0.7, silent=False, reg_lambda=5.0, objective=binary:logistic, n_estimators=100, min_child_weight=1.0, max_depth=15, learning_rate=0.2, gamma=1.0, eval_metric=logloss, eta=0.05, colsample_bytree=0.4, colsample_bylevel=0.4, total=   9.3s\n",
      "Randomized search time: 530.9813830852509\n",
      "Best score: -0.4372003162661532\n",
      "Best params: \n",
      "colsample_bylevel: 0.4\n",
      "colsample_bytree: 0.7\n",
      "eta: 0.01\n",
      "eval_metric: 'logloss'\n",
      "gamma: 0.5\n",
      "learning_rate: 0.2\n",
      "max_depth: 15\n",
      "min_child_weight: 7.0\n",
      "n_estimators: 100\n",
      "objective: 'binary:logistic'\n",
      "reg_lambda: 50.0\n",
      "silent: False\n",
      "subsample: 0.9\n"
     ]
    },
    {
     "name": "stderr",
     "output_type": "stream",
     "text": [
      "[Parallel(n_jobs=1)]: Done  40 out of  40 | elapsed:  8.8min finished\n"
     ]
    }
   ],
   "source": [
    "import xgboost as xgb\n",
    "from sklearn.model_selection import RandomizedSearchCV\n",
    "\n",
    "# this code is taken fromhttps://gist.github.com/wrwr/3f6b66bf4ee01bf48be965f60d14454d\n",
    "clf = xgb.XGBClassifier()\n",
    "\n",
    "param_grid = {\n",
    "        'silent': [False],\n",
    "        'max_depth': [5, 10, 15, 20],\n",
    "        'learning_rate': [0.01, 0.1, 0.2],\n",
    "        'subsample': [0.5, 0.6, 0.7, 0.8, 0.9, 1.0],\n",
    "        'colsample_bytree': [0.4, 0.5, 0.6, 0.7, 0.8, 0.9, 1.0],\n",
    "        'colsample_bylevel': [0.4, 0.5, 0.6, 0.7, 0.8, 0.9, 1.0],\n",
    "        'min_child_weight': [0.5, 1.0, 3.0, 5.0, 7.0, 10.0],\n",
    "        'gamma': [0, 0.25, 0.5, 1.0],\n",
    "        'reg_lambda': [0.1, 1.0, 5.0, 10.0, 50.0, 100.0],\n",
    "        'n_estimators': [100],\n",
    "        'objective':['binary:logistic'],\n",
    "        'eval_metric': ['logloss'],\n",
    "        'eta':[0.01,.02,.04,.05]\n",
    "        }\n",
    "\n",
    "fit_params = {'eval_metric': 'logloss',\n",
    "              'early_stopping_rounds': 10,\n",
    "              'eval_set': [(X_cv, y_cv)]}\n",
    "\n",
    "rs_clf = RandomizedSearchCV(clf, param_grid, n_iter=20,\n",
    "                            n_jobs=1, verbose=2, cv=2,\n",
    "                            scoring='neg_log_loss', refit=False, random_state=42)\n",
    "print(\"Randomized search..\")\n",
    "search_time_start = time.time()\n",
    "rs_clf.fit(X_train, y_train)\n",
    "print(\"Randomized search time:\", time.time() - search_time_start)\n",
    "\n",
    "best_score = rs_clf.best_score_\n",
    "best_params = rs_clf.best_params_\n",
    "print(\"Best score: {}\".format(best_score))\n",
    "print(\"Best params: \")\n",
    "for param_name in sorted(best_params.keys()):\n",
    "    print('%s: %r' % (param_name, best_params[param_name]))"
   ]
  },
  {
   "cell_type": "code",
   "execution_count": 76,
   "metadata": {},
   "outputs": [
    {
     "name": "stdout",
     "output_type": "stream",
     "text": [
      "[01:42:54] WARNING: C:\\Users\\Administrator\\workspace\\xgboost-win64_release_1.0.0\\src\\learner.cc:328: \n",
      "Parameters: { n_estimators, silent } might not be used.\n",
      "\n",
      "  This may not be accurate due to some parameters are only used in language bindings but\n",
      "  passed down to XGBoost core.  Or some parameters are not used but slip through this\n",
      "  verification. Please open an issue if you find above cases.\n",
      "\n",
      "\n",
      "[0]\ttrain-logloss:0.64096\tvalid-logloss:0.64084\n",
      "Multiple eval metrics have been passed: 'valid-logloss' will be used for early stopping.\n",
      "\n",
      "Will train until valid-logloss hasn't improved in 20 rounds.\n",
      "[10]\ttrain-logloss:0.49193\tvalid-logloss:0.49128\n",
      "[20]\ttrain-logloss:0.46704\tvalid-logloss:0.46804\n",
      "[30]\ttrain-logloss:0.45510\tvalid-logloss:0.45750\n",
      "[40]\ttrain-logloss:0.44673\tvalid-logloss:0.45045\n",
      "[50]\ttrain-logloss:0.44097\tvalid-logloss:0.44580\n",
      "[60]\ttrain-logloss:0.43550\tvalid-logloss:0.44150\n",
      "[70]\ttrain-logloss:0.43125\tvalid-logloss:0.43798\n",
      "[80]\ttrain-logloss:0.42795\tvalid-logloss:0.43560\n",
      "[90]\ttrain-logloss:0.42452\tvalid-logloss:0.43321\n",
      "[100]\ttrain-logloss:0.42044\tvalid-logloss:0.43019\n",
      "[110]\ttrain-logloss:0.41782\tvalid-logloss:0.42834\n",
      "[120]\ttrain-logloss:0.41529\tvalid-logloss:0.42641\n",
      "[130]\ttrain-logloss:0.41342\tvalid-logloss:0.42523\n",
      "[140]\ttrain-logloss:0.41156\tvalid-logloss:0.42396\n",
      "[150]\ttrain-logloss:0.40890\tvalid-logloss:0.42221\n",
      "[160]\ttrain-logloss:0.40750\tvalid-logloss:0.42124\n",
      "[170]\ttrain-logloss:0.40591\tvalid-logloss:0.42023\n",
      "[180]\ttrain-logloss:0.40390\tvalid-logloss:0.41885\n",
      "[190]\ttrain-logloss:0.40251\tvalid-logloss:0.41779\n",
      "[200]\ttrain-logloss:0.40121\tvalid-logloss:0.41685\n",
      "[210]\ttrain-logloss:0.40011\tvalid-logloss:0.41613\n",
      "[220]\ttrain-logloss:0.39832\tvalid-logloss:0.41492\n",
      "[230]\ttrain-logloss:0.39684\tvalid-logloss:0.41403\n",
      "[240]\ttrain-logloss:0.39575\tvalid-logloss:0.41345\n",
      "[250]\ttrain-logloss:0.39482\tvalid-logloss:0.41295\n",
      "[260]\ttrain-logloss:0.39368\tvalid-logloss:0.41236\n",
      "[270]\ttrain-logloss:0.39264\tvalid-logloss:0.41169\n",
      "[280]\ttrain-logloss:0.39172\tvalid-logloss:0.41111\n",
      "[290]\ttrain-logloss:0.39079\tvalid-logloss:0.41059\n",
      "[300]\ttrain-logloss:0.39003\tvalid-logloss:0.41008\n",
      "[310]\ttrain-logloss:0.38926\tvalid-logloss:0.40960\n",
      "[320]\ttrain-logloss:0.38839\tvalid-logloss:0.40914\n",
      "[330]\ttrain-logloss:0.38747\tvalid-logloss:0.40867\n",
      "[340]\ttrain-logloss:0.38646\tvalid-logloss:0.40809\n",
      "[350]\ttrain-logloss:0.38575\tvalid-logloss:0.40762\n",
      "[360]\ttrain-logloss:0.38504\tvalid-logloss:0.40729\n",
      "[370]\ttrain-logloss:0.38426\tvalid-logloss:0.40674\n",
      "[380]\ttrain-logloss:0.38321\tvalid-logloss:0.40615\n",
      "[390]\ttrain-logloss:0.38207\tvalid-logloss:0.40562\n",
      "[399]\ttrain-logloss:0.38133\tvalid-logloss:0.40515\n",
      "The test log loss is: 0.40514832785269733\n"
     ]
    }
   ],
   "source": [
    "params = {}\n",
    "params['objective'] = 'binary:logistic'\n",
    "params['eval_metric'] = 'logloss'\n",
    "params['eta'] = 0.05\n",
    "params['max_depth'] = 5\n",
    "params['n_estimators']= 100\n",
    "params['gamma'] = 0.5\n",
    "params['colsample_bylevel'] = 0.8\n",
    "params['colsample_bytree'] = 0.5\n",
    "params['learning_rate'] = 0.2\n",
    "params['silent'] = False\n",
    "params['subsample'] = 1\n",
    "params['reg_lambda'] = 100.0\n",
    "params['min_child_weight'] = 1.0\n",
    "\n",
    "\n",
    "d_train = xgb.DMatrix(X_train, label=y_train)\n",
    "d_test = xgb.DMatrix(X_test, label=y_test)\n",
    "\n",
    "watchlist = [(d_train, 'train'), (d_test, 'valid')]\n",
    "\n",
    "bst = xgb.train(params, d_train, 400, watchlist, early_stopping_rounds=20, verbose_eval=10)\n",
    "\n",
    "xgdmat = xgb.DMatrix(X_train,y_train)\n",
    "predict_y = bst.predict(d_test)\n",
    "print(\"The test log loss is:\",log_loss(y_test, predict_y, labels=[0,1], eps=1e-15))"
   ]
  },
  {
   "cell_type": "code",
   "execution_count": 77,
   "metadata": {},
   "outputs": [],
   "source": [
    "predicted_values=[]\n",
    "for i in predict_y:\n",
    "    if i<0.5:\n",
    "        predicted_values.append(0)\n",
    "    else:\n",
    "        predicted_values.append(1)\n",
    "        "
   ]
  },
  {
   "cell_type": "code",
   "execution_count": 78,
   "metadata": {},
   "outputs": [
    {
     "data": {
      "image/png": "[encoded data removed]",
      "text/plain": [
       "<Figure size 1440x288 with 6 Axes>"
      ]
     },
     "metadata": {
      "needs_background": "light"
     },
     "output_type": "display_data"
    }
   ],
   "source": [
    "plot_confusion_matrix(y_test, predicted_values)"
   ]
  },
  {
   "cell_type": "markdown",
   "metadata": {},
   "source": [
    "From the confusion matrix, it can be observed that the recall and precision has improved as compared to the confusion matrix of \n",
    "the linear SVM and logistic regression. "
   ]
  },
  {
   "cell_type": "markdown",
   "metadata": {},
   "source": [
    "# Try out models (Logistic regression, Linear-SVM) with simple TF-IDF vectors instead of TD_IDF weighted word2Vec.\n"
   ]
  },
  {
   "cell_type": "code",
   "execution_count": 65,
   "metadata": {},
   "outputs": [],
   "source": [
    "df=pd.read_csv('D:/AAIC/Quora-20200416T122507Z-001/Quora/nlp_features_train.csv',encoding='latin-1', nrows=100000)"
   ]
  },
  {
   "cell_type": "code",
   "execution_count": 66,
   "metadata": {},
   "outputs": [],
   "source": [
    "y = df['is_duplicate'].values\n",
    "X = df.drop(['is_duplicate'], axis=1)"
   ]
  },
  {
   "cell_type": "code",
   "execution_count": 67,
   "metadata": {},
   "outputs": [],
   "source": [
    "X_train,X_test, y_train, y_test = train_test_split(X, y, test_size=0.3)"
   ]
  },
  {
   "cell_type": "code",
   "execution_count": 68,
   "metadata": {},
   "outputs": [],
   "source": [
    "X_train['question1'] = X_train['question1'].apply(lambda x: str(x))\n",
    "X_train['question2'] = X_train['question2'].apply(lambda x: str(x))\n",
    "\n",
    "X_test['question1'] = X_test['question1'].apply(lambda x: str(x))\n",
    "X_test['question2'] = X_test['question2'].apply(lambda x: str(x))"
   ]
  },
  {
   "cell_type": "code",
   "execution_count": 69,
   "metadata": {},
   "outputs": [
    {
     "name": "stdout",
     "output_type": "stream",
     "text": [
      "Shape of matrix  (70000, 8036)\n",
      "Shape of matrix  (70000, 8036)\n"
     ]
    }
   ],
   "source": [
    "from sklearn.feature_extraction.text import TfidfVectorizer\n",
    "qtrain = list(X_train['question1']) + list(X_train['question2'])\n",
    "vecttfidf_question = TfidfVectorizer(lowercase=False,min_df=10)\n",
    "vecttfidf_question.fit(qtrain)\n",
    "\n",
    "q1tfidf_tr = vecttfidf_question.transform(X_train['question1'])\n",
    "q2tfidf_tr = vecttfidf_question.transform(X_train['question2'])\n",
    "print(\"Shape of matrix \",q1tfidf_tr.shape)\n",
    "print(\"Shape of matrix \",q2tfidf_tr.shape)"
   ]
  },
  {
   "cell_type": "code",
   "execution_count": 70,
   "metadata": {},
   "outputs": [
    {
     "name": "stdout",
     "output_type": "stream",
     "text": [
      "Shape of matrix  (30000, 8036)\n",
      "Shape of matrix  (30000, 8036)\n"
     ]
    }
   ],
   "source": [
    "q1tfidf_te = vecttfidf_question.transform(X_test['question1'])\n",
    "q2tfidf_te = vecttfidf_question.transform(X_test['question2'])\n",
    "print(\"Shape of matrix \",q1tfidf_te.shape)\n",
    "print(\"Shape of matrix \",q2tfidf_te.shape)"
   ]
  },
  {
   "cell_type": "code",
   "execution_count": 71,
   "metadata": {},
   "outputs": [
    {
     "data": {
      "text/plain": [
       "Index(['id', 'qid1', 'qid2', 'question1', 'question2', 'cwc_min', 'cwc_max',\n",
       "       'csc_min', 'csc_max', 'ctc_min', 'ctc_max', 'last_word_eq',\n",
       "       'first_word_eq', 'abs_len_diff', 'mean_len', 'token_set_ratio',\n",
       "       'token_sort_ratio', 'fuzz_ratio', 'fuzz_partial_ratio',\n",
       "       'longest_substr_ratio'],\n",
       "      dtype='object')"
      ]
     },
     "execution_count": 71,
     "metadata": {},
     "output_type": "execute_result"
    }
   ],
   "source": [
    "X_train.columns"
   ]
  },
  {
   "cell_type": "code",
   "execution_count": 72,
   "metadata": {},
   "outputs": [],
   "source": [
    "X_train = X_train.drop(['id','question1','question2','qid1','qid2'],axis=1)\n",
    "X_test = X_test.drop(['id','question1','question2','qid1','qid2'],axis=1)"
   ]
  },
  {
   "cell_type": "code",
   "execution_count": 73,
   "metadata": {},
   "outputs": [],
   "source": [
    "X_train = hstack((X_train,q1tfidf_tr,q2tfidf_tr))\n",
    "X_test = hstack((X_test,q1tfidf_te,q2tfidf_te))\n"
   ]
  },
  {
   "cell_type": "code",
   "execution_count": 74,
   "metadata": {},
   "outputs": [
    {
     "name": "stdout",
     "output_type": "stream",
     "text": [
      "For values of alpha =  1e-05 The log loss is: 0.45749557657055756\n",
      "For values of alpha =  0.0001 The log loss is: 0.4530156159402627\n",
      "For values of alpha =  0.001 The log loss is: 0.490313554873835\n",
      "For values of alpha =  0.01 The log loss is: 0.5460317227742179\n",
      "For values of alpha =  0.1 The log loss is: 0.5831182889065538\n",
      "For values of alpha =  1 The log loss is: 0.5954884896413657\n",
      "For values of alpha =  10 The log loss is: 0.6066151574812287\n"
     ]
    },
    {
     "data": {
      "image/png": "[encoded data removed]",
      "text/plain": [
       "<Figure size 432x288 with 1 Axes>"
      ]
     },
     "metadata": {
      "needs_background": "light"
     },
     "output_type": "display_data"
    },
    {
     "name": "stdout",
     "output_type": "stream",
     "text": [
      "For values of best alpha =  0.0001 The train log loss is: 0.44379177469898634\n",
      "For values of best alpha =  0.0001 The test log loss is: 0.4530156159402627\n",
      "Total number of data points : 30000\n"
     ]
    },
    {
     "data": {
      "image/png": "[encoded data removed]",
      "text/plain": [
       "<Figure size 1440x288 with 6 Axes>"
      ]
     },
     "metadata": {
      "needs_background": "light"
     },
     "output_type": "display_data"
    }
   ],
   "source": [
    "# Logistic regression\n",
    "alpha = [10 ** x for x in range(-5, 2)] # hyperparam for SGD classifier.\n",
    "\n",
    "\n",
    "log_error_array=[]\n",
    "for i in alpha:\n",
    "    clf = SGDClassifier(alpha=i, penalty='l2', loss='log', random_state=42)\n",
    "    clf.fit(X_train, y_train)\n",
    "    sig_clf = CalibratedClassifierCV(clf, method=\"sigmoid\")\n",
    "    sig_clf.fit(X_train, y_train)\n",
    "    predict_y = sig_clf.predict_proba(X_test)\n",
    "    log_error_array.append(log_loss(y_test, predict_y, labels=clf.classes_, eps=1e-15))\n",
    "    print('For values of alpha = ', i, \"The log loss is:\",log_loss(y_test, predict_y, labels=clf.classes_, eps=1e-15))\n",
    "\n",
    "fig, ax = plt.subplots()\n",
    "ax.plot(alpha, log_error_array,c='g')\n",
    "for i, txt in enumerate(np.round(log_error_array,3)):\n",
    "    ax.annotate((alpha[i],np.round(txt,3)), (alpha[i],log_error_array[i]))\n",
    "plt.grid()\n",
    "plt.title(\"Cross Validation Error for each alpha\")\n",
    "plt.xlabel(\"Alpha i's\")\n",
    "plt.ylabel(\"Error measure\")\n",
    "plt.show()\n",
    "\n",
    "\n",
    "best_alpha = np.argmin(log_error_array)\n",
    "clf = SGDClassifier(alpha=alpha[best_alpha], penalty='l2', loss='log', random_state=42)\n",
    "clf.fit(X_train, y_train)\n",
    "sig_clf = CalibratedClassifierCV(clf, method=\"sigmoid\")\n",
    "sig_clf.fit(X_train, y_train)\n",
    "\n",
    "predict_y = sig_clf.predict_proba(X_train)\n",
    "print('For values of best alpha = ', alpha[best_alpha], \"The train log loss is:\",log_loss(y_train, predict_y, labels=clf.classes_, eps=1e-15))\n",
    "predict_y = sig_clf.predict_proba(X_test)\n",
    "print('For values of best alpha = ', alpha[best_alpha], \"The test log loss is:\",log_loss(y_test, predict_y, labels=clf.classes_, eps=1e-15))\n",
    "predicted_y =np.argmax(predict_y,axis=1)\n",
    "print(\"Total number of data points :\", len(predicted_y))\n",
    "plot_confusion_matrix(y_test, predicted_y)"
   ]
  },
  {
   "cell_type": "code",
   "execution_count": 80,
   "metadata": {},
   "outputs": [
    {
     "name": "stdout",
     "output_type": "stream",
     "text": [
      "For values of alpha =  1e-05 The log loss is: 0.5043456020149342\n",
      "For values of alpha =  0.0001 The log loss is: 0.5218932749168892\n",
      "For values of alpha =  0.001 The log loss is: 0.5447474359197522\n",
      "For values of alpha =  0.01 The log loss is: 0.5615214689257189\n",
      "For values of alpha =  0.1 The log loss is: 0.604701347756123\n",
      "For values of alpha =  1 The log loss is: 0.6588368762810207\n",
      "For values of alpha =  10 The log loss is: 0.660673698569075\n"
     ]
    },
    {
     "data": {
      "image/png": "[encoded data removed]",
      "text/plain": [
       "<Figure size 432x288 with 1 Axes>"
      ]
     },
     "metadata": {
      "needs_background": "light"
     },
     "output_type": "display_data"
    },
    {
     "name": "stdout",
     "output_type": "stream",
     "text": [
      "For values of best alpha =  1e-05 The train log loss is: 0.4958473132677425\n",
      "For values of best alpha =  1e-05 The test log loss is: 0.5043456020149342\n",
      "Total number of data points : 30000\n"
     ]
    },
    {
     "data": {
      "image/png": "[encoded data removed]",
      "text/plain": [
       "<Figure size 1440x288 with 6 Axes>"
      ]
     },
     "metadata": {
      "needs_background": "light"
     },
     "output_type": "display_data"
    }
   ],
   "source": [
    "# Linear SVM\n",
    "\n",
    "alpha = [10 ** x for x in range(-5, 2)] # hyperparam for SGD classifier.\n",
    "\n",
    "\n",
    "\n",
    "\n",
    "log_error_array=[]\n",
    "for i in alpha:\n",
    "    clf = SGDClassifier(alpha=i, penalty='l1', loss='hinge', random_state=42)\n",
    "    clf.fit(X_train, y_train)\n",
    "    sig_clf = CalibratedClassifierCV(clf, method=\"sigmoid\")\n",
    "    sig_clf.fit(X_train, y_train)\n",
    "    predict_y = sig_clf.predict_proba(X_test)\n",
    "    log_error_array.append(log_loss(y_test, predict_y, labels=clf.classes_, eps=1e-15))\n",
    "    print('For values of alpha = ', i, \"The log loss is:\",log_loss(y_test, predict_y, labels=clf.classes_, eps=1e-15))\n",
    "\n",
    "fig, ax = plt.subplots()\n",
    "ax.plot(alpha, log_error_array,c='g')\n",
    "for i, txt in enumerate(np.round(log_error_array,3)):\n",
    "    ax.annotate((alpha[i],np.round(txt,3)), (alpha[i],log_error_array[i]))\n",
    "plt.grid()\n",
    "plt.title(\"Cross Validation Error for each alpha\")\n",
    "plt.xlabel(\"Alpha i's\")\n",
    "plt.ylabel(\"Error measure\")\n",
    "plt.show()\n",
    "\n",
    "\n",
    "best_alpha = np.argmin(log_error_array)\n",
    "clf = SGDClassifier(alpha=alpha[best_alpha], penalty='l1', loss='hinge', random_state=42)\n",
    "clf.fit(X_train, y_train)\n",
    "sig_clf = CalibratedClassifierCV(clf, method=\"sigmoid\")\n",
    "sig_clf.fit(X_train, y_train)\n",
    "\n",
    "predict_y = sig_clf.predict_proba(X_train)\n",
    "print('For values of best alpha = ', alpha[best_alpha], \"The train log loss is:\",log_loss(y_train, predict_y, labels=clf.classes_, eps=1e-15))\n",
    "predict_y = sig_clf.predict_proba(X_test)\n",
    "print('For values of best alpha = ', alpha[best_alpha], \"The test log loss is:\",log_loss(y_test, predict_y, labels=clf.classes_, eps=1e-15))\n",
    "predicted_y =np.argmax(predict_y,axis=1)\n",
    "print(\"Total number of data points :\", len(predicted_y))\n",
    "plot_confusion_matrix(y_test, predicted_y)"
   ]
  },
  {
   "cell_type": "code",
   "execution_count": 81,
   "metadata": {},
   "outputs": [
    {
     "name": "stdout",
     "output_type": "stream",
     "text": [
      "+------------+---------------------+--------------+\n",
      "| Vectorizer |        Model        | Test logloss |\n",
      "+------------+---------------------+--------------+\n",
      "| TFIDF-W2V  |       XG Boost      |    0.4051    |\n",
      "|   TFIDF    | Logistic Regression |    0.453     |\n",
      "|   TFIDF    |      Linear SVM     |    0.5043    |\n",
      "+------------+---------------------+--------------+\n"
     ]
    }
   ],
   "source": [
    "from prettytable import PrettyTable\n",
    "table = PrettyTable() \n",
    "table.field_names = [\"Vectorizer\", \"Model\",\"Test logloss\"] \n",
    "table.add_row([\"TFIDF-W2V\", \"XG Boost\" ,0.4051])\n",
    "table.add_row([\"TFIDF\", \"Logistic Regression\",0.4530])\n",
    "table.add_row([\"TFIDF\", \"Linear SVM\",0.5043]) \n",
    "\n",
    "print(table)"
   ]
  },
  {
   "cell_type": "markdown",
   "metadata": {},
   "source": [
    "## Summary:\n",
    "\n",
    "From the confusion matrices, it can be inferred that XG Boost works best for the given dataset."
   ]
  }
 ],
 "metadata": {
  "kernelspec": {
   "display_name": "Python 3",
   "language": "python",
   "name": "python3"
  },
  "language_info": {
   "codemirror_mode": {
    "name": "ipython",
    "version": 3
   },
   "file_extension": ".py",
   "mimetype": "text/x-python",
   "name": "python",
   "nbconvert_exporter": "python",
   "pygments_lexer": "ipython3",
   "version": "3.7.6"
  }
 },
 "nbformat": 4,
 "nbformat_minor": 4
}
